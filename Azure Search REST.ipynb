{
 "cells": [
  {
   "cell_type": "code",
   "execution_count": 20,
   "metadata": {},
   "outputs": [],
   "source": [
    "import json\n",
    "import requests\n",
    "from pprint import pprint"
   ]
  },
  {
   "cell_type": "code",
   "execution_count": 21,
   "metadata": {},
   "outputs": [],
   "source": [
    "def get(url, key, params={}):\n",
    "    headers = {'api-key': key,\n",
    "               'Content-Type': 'application/json', \n",
    "               'Accept': 'application/json' }\n",
    "    return requests.get(url, headers=headers, params=params)\n",
    "\n",
    "def post(url, key, json={}):\n",
    "    headers = {'api-key': key,\n",
    "               'Content-Type': 'application/json', \n",
    "               'Accept': 'application/json' }\n",
    "    return requests.post(url, headers=headers, json=json)    "
   ]
  },
  {
   "cell_type": "code",
   "execution_count": 24,
   "metadata": {
    "tags": []
   },
   "outputs": [
    {
     "output_type": "stream",
     "name": "stdout",
     "text": [
      "('{\"@odata.context\":\"https://team4search.search.windows.net/indexes(\\'azureblob-index\\')/$metadata#docs(*)\",\"@odata.count\":19,\"value\":[{\"@search.score\":4.121126,\"content\":\"\\\\nFabulous '\n 'location but not as fancy as I expected. \\\\n\\\\nThe Manhattan Hotel, New '\n 'York, USA \\\\n\\\\n10/19/2018 \\\\n\\\\nThe room was not as luxurious as I was '\n \"expecting. We've stayed in many nicer resorts. It was nice \\\\n\\\\nand the \"\n 'location is fabulous. You can walk to many New York landmarks. There were a '\n 'couple of \\\\n\\\\nminor maintenance issues that needed attention. The front '\n 'desk employees were more helpful than \\\\n\\\\nthe concierge. I would stay '\n 'there again because of the location. There was a breakfast available on '\n '\\\\n\\\\nsite, but it seemed very pricey for what was offered. There were '\n 'several good restaurants close by \\\\n\\\\nthat the front desk directed us to. '\n '\\\\n\\\\nReviewer: Manami Sato '\n '\\\\n\\\\n\\\\n\",\"metadata_storage_size\":112332,\"metadata_storage_last_modified\":\"2020-11-09T11:33:23Z\",\"metadata_storage_name\":\"201833.pdf\",\"metadata_storage_path\":\"aHR0cHM6Ly90ZWFtNHNlYXJjaC5ibG9iLmNvcmUud2luZG93cy5uZXQvdGVhbTRjb250YWluZXIvcmV2aWV3LzIwMTgzMy5wZGY1\",\"id\":null},{\"@search.score\":3.9540248,\"content\":\"\\\\nCentrally '\n 'Located \\\\n\\\\nThe Manhattan Hotel, New York, USA \\\\n\\\\n10/9/2018 \\\\n\\\\nOur '\n 'experience staying at the Manhattan Hotel was pleasureable. We stayed in a '\n 'one bedroom and \\\\n\\\\nit was spacious for New York standards. There was a '\n \"fitness room on site,but we didn't use the \\\\n\\\\nfacilities. They served \"\n \"fresh coffee and tea and cookies from 11am - 4pm in their Owner's Lounge. \"\n \"\\\\n\\\\nIt's centrally located. We were able to walk to Central Park, Times \"\n 'Square, Broadway and subway \\\\n\\\\nentrances. \\\\n\\\\nReviewer: Aaron '\n 'Burkholder '\n '\\\\n\\\\n\\\\n\",\"metadata_storage_size\":110875,\"metadata_storage_last_modified\":\"2020-11-09T11:33:07Z\",\"metadata_storage_name\":\"201826.pdf\",\"metadata_storage_path\":\"aHR0cHM6Ly90ZWFtNHNlYXJjaC5ibG9iLmNvcmUud2luZG93cy5uZXQvdGVhbTRjb250YWluZXIvcmV2aWV3LzIwMTgyNi5wZGY1\",\"id\":null},{\"@search.score\":3.7072644,\"content\":\"\\\\nMargie\\\\u2019s '\n 'Travel Presents\\\\u2026 \\\\n\\\\nNew York \\\\nThe City of New York, often called '\n 'New York City or simply \\\\n\\\\nNew York, is the most populous city in the '\n 'United States. \\\\n\\\\nWith an estimated 2015 population of 8,550,405 '\n 'distributed \\\\n\\\\nover a land area of about 302.6 square miles, New York '\n '\\\\n\\\\nCity is also the most densely populated major city in the \\\\n\\\\nUnited '\n 'States. Located at the southern tip of the state of \\\\n\\\\nNew York, the city '\n 'is the center of the New York \\\\n\\\\nmetropolitan area, one of the most '\n 'populous urban \\\\n\\\\nagglomerations in the world. A global power city, New '\n 'York \\\\n\\\\nCity exerts a significant impact upon commerce, finance, '\n '\\\\n\\\\nmedia, art, fashion, research, technology, education, and '\n '\\\\n\\\\nentertainment, its fast pace defining the term New York \\\\n\\\\nminute. '\n 'Home to the headquarters of the United Nations, \\\\n\\\\nNew York is an '\n 'important center for international diplomacy \\\\n\\\\nand has been described as '\n 'the cultural and financial capital \\\\n\\\\nof the world. \\\\n\\\\n \\\\n\\\\nNew York '\n 'Hotels \\\\n\\\\nMargie\\\\u2019s Travel offers the following accommodation '\n 'options \\\\n\\\\nin New York: \\\\n\\\\nThe Manhattan Hotel \\\\n\\\\nStay in the heart '\n 'of New York City, within an easy walk to \\\\n\\\\nTimes Square and Broadway. '\n '\\\\n\\\\nThe Grand Central Hotel \\\\n\\\\nComfortable mid-town hotel. Close to '\n 'Grand Central \\\\n\\\\nStation, the Chrysler Building, and the Empire State '\n '\\\\n\\\\nBuilding. \\\\n\\\\nThe Park Hotel \\\\n\\\\nLuxurious accommodation in upper '\n 'Manhattan, with views \\\\n\\\\nof Central Park. \\\\n\\\\n \\\\n\\\\n \\\\n\\\\nTo book '\n 'your trip to New York, visit www.margiestravel.com \\\\n\\\\n '\n '\\\\n\\\\n\\\\n\",\"metadata_storage_size\":384954,\"metadata_storage_last_modified\":\"2020-11-09T11:34:50Z\",\"metadata_storage_name\":\"New '\n 'York '\n 'Brochure.pdf\",\"metadata_storage_path\":\"aHR0cHM6Ly90ZWFtNHNlYXJjaC5ibG9iLmNvcmUud2luZG93cy5uZXQvdGVhbTRjb250YWluZXIvY29sbGF0ZXJhbC9OZXclMjBZb3JrJTIwQnJvY2h1cmUucGRm0\",\"id\":null},{\"@search.score\":3.4606156,\"content\":\"\\\\nOld '\n 'building just covered up existing problems. \\\\n\\\\nThe Park Hotel, New York, '\n 'USA \\\\n\\\\n11/23/2018 \\\\n\\\\nThis hotel is right near everything that anyone '\n 'new to New York may want to do. The hotel is kinda \\\\n\\\\ncool. Old looking '\n 'on the outside and the lobby and bar have been updated nicely and there is a '\n 'nice \\\\n\\\\natmosphere there. The rooms were not as cool. When I first walked '\n 'into my room it smelled like the \\\\n\\\\npeople who had probably just checked '\n 'out...bad. To remedy, I asked the nice housekeeper for some \\\\n\\\\nspray and '\n 'she quickly went in and took care of the problem for me. She even adjusted '\n 'the heat \\\\n\\\\nbecause she thought maybe the old heating system was '\n 'circulating stagnant, old air. The bathroom \\\\n\\\\nwas roomy but you could '\n 'see water stains at the top of the shower and the vent in there was dirty. '\n '\\\\n\\\\nAfter I went to sleep I swear the room smelled a little like pee but I '\n 'was done complaining for the \\\\n\\\\nnight and new it really was just the air '\n 'and maybe the carpet a bit. It looked ok but you can see that '\n '\\\\n\\\\nwallpaper had gone over shabby walls. The staff was really nice. They '\n \"don't check people in until \\\\n\\\\nfour so it was a nice surprise when they \"\n 'tried to accommodate me and they let me check in at noon. \\\\n\\\\nI was happy '\n 'about that and they also gave me an apple. :)If you use this hotel just '\n 'maybe inspect \\\\n\\\\nyour room before finally settling down. They need some '\n \"work but I wasn't that upset with it. \\\\n\\\\nReviewer: Violet Chambers \"\n '\\\\n\\\\n\\\\n\",\"metadata_storage_size\":117087,\"metadata_storage_last_modified\":\"2020-11-09T11:33:52Z\",\"metadata_storage_name\":\"201861.pdf\",\"metadata_storage_path\":\"aHR0cHM6Ly90ZWFtNHNlYXJjaC5ibG9iLmNvcmUud2luZG93cy5uZXQvdGVhbTRjb250YWluZXIvcmV2aWV3LzIwMTg2MS5wZGY1\",\"id\":null},{\"@search.score\":3.4171793,\"content\":\"\\\\nGreat '\n 'Hotel with the best possible location \\\\n\\\\nThe Manhattan Hotel, New York, '\n 'USA \\\\n\\\\n8/26/2018 \\\\n\\\\nI love the Manhattan Hotel for its location and '\n 'the energy of New York city. The hotel is well kept \\\\n\\\\nand the room size '\n \"is large for a typical New York City hotel. I can't wait to get back \"\n '\\\\n\\\\nReviewer: Hsiu-ying Zhuang '\n '\\\\n\\\\n\\\\n\",\"metadata_storage_size\":111115,\"metadata_storage_last_modified\":\"2020-11-09T11:32:53Z\",\"metadata_storage_name\":\"201815.pdf\",\"metadata_storage_path\":\"aHR0cHM6Ly90ZWFtNHNlYXJjaC5ibG9iLmNvcmUud2luZG93cy5uZXQvdGVhbTRjb250YWluZXIvcmV2aWV3LzIwMTgxNS5wZGY1\",\"id\":null},{\"@search.score\":3.042585,\"content\":\"\\\\nGood '\n 'choice for Murray Hill/Grand Central area \\\\n\\\\nThe Grand Central Hotel, New '\n 'York, USA \\\\n\\\\n10/19/2018 \\\\n\\\\nHotel was well located and close to Grand '\n 'Central Station - the room was on a non-view side but was \\\\n\\\\ndecent sized '\n '(as everyone else has said) for NYC, about 3 feet around the bed, which is '\n 'okay. The \\\\n\\\\nmini-bar was well stocked and we did not hear any noise from '\n 'the other rooms. Nice desk and \\\\n\\\\nfixtures in the room itself. The '\n 'bathroom was not the greatest and the shower had low pressure, but \\\\n\\\\nthe '\n 'bed was extremely comfortable. Staffing was strange - it seemed like there '\n 'were only 2 people \\\\n\\\\nwho worked there - the bell captain and the '\n 'reception desk person, and they had a hard time \\\\n\\\\nhandling the 4 people '\n 'in the lobby when we got there - not sure if this was because it was a '\n 'Sunday. \\\\n\\\\nReviewer: Rafael Howes '\n '\\\\n\\\\n\\\\n\",\"metadata_storage_size\":118724,\"metadata_storage_last_modified\":\"2020-11-09T11:33:14Z\",\"metadata_storage_name\":\"201832.pdf\",\"metadata_storage_path\":\"aHR0cHM6Ly90ZWFtNHNlYXJjaC5ibG9iLmNvcmUud2luZG93cy5uZXQvdGVhbTRjb250YWluZXIvcmV2aWV3LzIwMTgzMi5wZGY1\",\"id\":null},{\"@search.score\":2.7357075,\"content\":\"\\\\nVery '\n 'Good \\\\n\\\\nThe Park Hotel, New York, USA \\\\n\\\\n11/23/2018 \\\\n\\\\nFound the '\n 'staff very helpful with our situations of early check in, storage , cleaning '\n 'and help with the \\\\n\\\\nin room safe. Super service. Very pleasant. Room was '\n 'clean, beds comfortable, clean, nice linen, and \\\\n\\\\nvery nice room. Very '\n 'busy hotel but quiet and very well organized staff. Lots of staff to ask '\n 'questions \\\\n\\\\nof. Elavator was great with the touch screen. I missed in '\n 'room coffee but lots of shops nearby, can \\\\n\\\\nthink of 3 offhand that sold '\n 'coffee and econnomical meals and snacks. And the Deli almost next '\n '\\\\n\\\\ndoor. Great for people new to this city . Very happy with my choice of '\n 'this hotel. \\\\n\\\\nReviewer: Roy Dibble '\n '\\\\n\\\\n\\\\n\",\"metadata_storage_size\":105730,\"metadata_storage_last_modified\":\"2020-11-09T11:33:54Z\",\"metadata_storage_name\":\"201860.pdf\",\"metadata_storage_path\":\"aHR0cHM6Ly90ZWFtNHNlYXJjaC5ibG9iLmNvcmUud2luZG93cy5uZXQvdGVhbTRjb250YWluZXIvcmV2aWV3LzIwMTg2MC5wZGY1\",\"id\":null},{\"@search.score\":2.4914513,\"content\":\"\\\\nGood '\n 'and Bad \\\\n\\\\nThe Buckingham Hotel, London, UK \\\\n\\\\n12/29/2018 \\\\n\\\\nThe '\n 'hotel used to be known as the St. James - a fact that most London cabbies '\n 'will remind you of. It \\\\n\\\\nis a mystery why the owners chose to rename it '\n 'with its street  - that is okay in New York but \\\\n\\\\napparently not in '\n 'London according to taxi drivers. The hotel (apartments) boasts a 5 star 5 '\n 'diamond \\\\n\\\\nlabel but probably needs some sprucing up to really merit '\n 'that. For example, the elevator - sized like \\\\n\\\\na coffin - in the '\n 'building adjacent to the main building has an old worn out carpet and has '\n 'short jerky \\\\n\\\\nmovements and gets filled quickly resulting in waits at '\n 'the ground level. On check-in the receptionist \\\\n\\\\npromised various '\n 'newspapers the next morning besides the complimentary Independent only to '\n 'find \\\\n\\\\nNOTHING delivered. The Independent did arrive on the second '\n 'morning. The breakfast room is tiny \\\\n\\\\nand gets filled in rapidly on '\n 'weekends with the staff valiantly trying to keep guests seated and served '\n '\\\\n\\\\nbut usually is unable to cope - example: cappuccino ordered showed up '\n 'tepid and luke warm. \\\\n\\\\nEvidently it came from some place far away '\n '(probably the hotel next door which management does \\\\n\\\\nlittle to let on '\n 'that it is part of the same ownership). On the plus side, great location - '\n 'walking \\\\n\\\\ndistance to almost any part of central London. \\\\n\\\\nReviewer: '\n 'Constance Kirkland '\n '\\\\n\\\\n\\\\n\",\"metadata_storage_size\":114948,\"metadata_storage_last_modified\":\"2020-11-09T11:33:53Z\",\"metadata_storage_name\":\"201866.pdf\",\"metadata_storage_path\":\"aHR0cHM6Ly90ZWFtNHNlYXJjaC5ibG9iLmNvcmUud2luZG93cy5uZXQvdGVhbTRjb250YWluZXIvcmV2aWV3LzIwMTg2Ni5wZGY1\",\"id\":null},{\"@search.score\":2.4087048,\"content\":\"\\\\nExcellent '\n 'Location Comfortable and Friendly Hotel \\\\n\\\\nThe Grand Central Hotel, New '\n 'York, USA \\\\n\\\\n10/14/2018 \\\\n\\\\nA perfect hotel for a girls shopping trip '\n 'to the Big Apple. Located a short walk from Macys and a few \\\\n\\\\nblocks '\n 'from the subway at Grand Central Station with the express trains to Uptown '\n 'and Downtown \\\\n\\\\nManhattan. The rooms were a good size (by New York '\n 'standards) with comfortable beds. The staff \\\\n\\\\nwere friendly and helpful '\n 'and check-in/check-out was quick and straightforward. The rate was '\n '\\\\n\\\\nexcellent and included a more than adequate buffet style breakfast. I '\n 'would happily stay at this hotel \\\\n\\\\nagain. \\\\n\\\\nReviewer: Ananta Nair '\n '\\\\n\\\\n\\\\n\",\"metadata_storage_size\":113804,\"metadata_storage_last_modified\":\"2020-11-09T11:33:07Z\",\"metadata_storage_name\":\"201828.pdf\",\"metadata_storage_path\":\"aHR0cHM6Ly90ZWFtNHNlYXJjaC5ibG9iLmNvcmUud2luZG93cy5uZXQvdGVhbTRjb250YWluZXIvcmV2aWV3LzIwMTgyOC5wZGY1\",\"id\":null},{\"@search.score\":2.3769672,\"content\":\"\\\\nMargie\\\\u2019s '\n 'Travel Presents\\\\u2026 \\\\n\\\\nSan Francisco \\\\nSan Francisco, officially the '\n 'City and County of San \\\\n\\\\nFrancisco, is the cultural, commercial, and '\n 'financial \\\\n\\\\ncenter of Northern California. It is the birthplace of '\n '\\\\n\\\\nthe United Nations. Located at the north end of the \\\\n\\\\nSan '\n 'Francisco Peninsula, San Francisco is about \\\\n\\\\n47.9 square miles in area, '\n 'making it the smallest \\\\n\\\\ncounty\\\\u2014and the only consolidated '\n 'city-county\\\\u2014\\\\n\\\\nwithin the state of California. With a density of '\n 'about \\\\n\\\\n18,581 people per square mile, San Francisco is the \\\\n\\\\nmost '\n 'densely settled large city in California and the \\\\n\\\\nsecond-most densely '\n 'populated major city in the \\\\n\\\\nUnited States after New York City. San '\n 'Francisco is \\\\n\\\\nthe fourth-most populous city in California, after Los '\n '\\\\n\\\\nAngeles, San Diego, and San Jose, and the 13th-\\\\n\\\\nmost populous '\n 'city in the United States\\\\u2014with a \\\\n\\\\ncensus-estimated 2016 '\n 'population of 870,887. The \\\\n\\\\ncity and its surrounding areas are known as '\n 'the San \\\\n\\\\nFrancisco Bay Area, and are a part of the larger '\n '\\\\n\\\\nOMB-designated San Jose-San Francisco-Oakland \\\\n\\\\ncombined '\n 'statistical area, the fifth most populous in \\\\n\\\\nthe nation with an '\n 'estimated population of 8.7 million. \\\\n\\\\n \\\\n\\\\nSan Francisco Hotels '\n '\\\\n\\\\nMargie\\\\u2019s Travel offers the following accommodation options '\n '\\\\n\\\\nin San Francisco: \\\\n\\\\nThe Lombard Hotel \\\\n\\\\nFriendly, family-run '\n 'hotel within easy walking distance to \\\\n\\\\npopular sights, including the '\n 'Golden Gate Bridge and the \\\\n\\\\nPresidio. Free Parking. \\\\n\\\\nThe Wharf '\n 'Hotel \\\\n\\\\nGreat value accommodation in the heart of the vibrant '\n '\\\\n\\\\nFisherman\\\\u2019s Wharf area. Continental Breakfast included. \\\\n\\\\n '\n '\\\\n\\\\n \\\\n\\\\n \\\\n\\\\n \\\\n\\\\nTo book your trip to San Francisco, visit '\n 'www.margiestravel.com \\\\n\\\\n '\n '\\\\n\\\\n\\\\n\",\"metadata_storage_size\":387867,\"metadata_storage_last_modified\":\"2020-11-09T11:34:56Z\",\"metadata_storage_name\":\"San '\n 'Francisco '\n 'Brochure.pdf\",\"metadata_storage_path\":\"aHR0cHM6Ly90ZWFtNHNlYXJjaC5ibG9iLmNvcmUud2luZG93cy5uZXQvdGVhbTRjb250YWluZXIvY29sbGF0ZXJhbC9TYW4lMjBGcmFuY2lzY28lMjBCcm9jaHVyZS5wZGY1\",\"id\":null},{\"@search.score\":2.298597,\"content\":\"\\\\nLucky '\n \"I didn't listen to negative reviews! \\\\n\\\\nThe Park Hotel, New York, USA \"\n '\\\\n\\\\n11/22/2018 \\\\n\\\\nI almost cancelled my reservation for this hotel '\n 'prior to my departure after reading the many \\\\n\\\\nnegative reviews here but '\n 'given the great price for 5 nights at just US$1,300 including taxes , I took '\n '\\\\n\\\\nthe risk. After working for a week in LA, I went to New York for a bit '\n 'of a break before heading back \\\\n\\\\nto Melbourne. It has been 13 years '\n 'since my last visit there.After reading the many negative reviews, \\\\n\\\\nI '\n 'prepared for the worst. I entered this large hotel and found the reception '\n 'area nice, clean and \\\\n\\\\nspacious and the reception staff were very '\n 'courteous and welcoming. Could this be the same hotel I \\\\n\\\\nwas reading '\n 'about on Trip Advisor? They gave me my room key for the 17th floor and I was '\n 'very \\\\n\\\\nnervous as I entered the key to open the door. I thought, how bad '\n 'can the room be? To my shocked \\\\n\\\\nsurprise, the room was bigger than what '\n 'I thought. The king size bed was massive, the widescreen \\\\n\\\\nTV was great '\n 'and the room smelled nice. One last check was the bathroom and, lo and '\n 'behold, not \\\\n\\\\none trace of fungus or odour and, for New York and for a '\n 'single, it was big enough.I will definitely be \\\\n\\\\nstaying at this hotel '\n 'again but I will be sure to get the same room as I heard other rooms on the '\n '\\\\n\\\\nlower levels may not be as nice. Given the rate, this hotel was a '\n 'steal and the location was perfect. It \\\\n\\\\nwas great to leave the hotel at '\n '7.30pm and walk just five minutes to a Broadway play starring Bill '\n '\\\\n\\\\nPullman and Julia Stiles starting at 8pm. Heaven! Only in New York! '\n '\\\\n\\\\nReviewer: Delia Barrera '\n '\\\\n\\\\n\\\\n\",\"metadata_storage_size\":119046,\"metadata_storage_last_modified\":\"2020-11-09T11:33:51Z\",\"metadata_storage_name\":\"201858.pdf\",\"metadata_storage_path\":\"aHR0cHM6Ly90ZWFtNHNlYXJjaC5ibG9iLmNvcmUud2luZG93cy5uZXQvdGVhbTRjb250YWluZXIvcmV2aWV3LzIwMTg1OC5wZGY1\",\"id\":null},{\"@search.score\":2.2470918,\"content\":\"\\\\n '\n '\\\\n\\\\n \\\\n\\\\n \\\\n\\\\n \\\\n\\\\n \\\\n \\\\n\\\\n \\\\n\\\\n \\\\n\\\\n \\\\n\\\\nWherever you want '\n 'to go, Margie\\\\u2019s Travel can get you there! \\\\n\\\\nMargie\\\\u2019s Travel '\n 'is a world-leading travel agency, combining international reach with local '\n '\\\\n\\\\nexpertise. Just tell us where you want to go, and we can arrange: '\n '\\\\n\\\\n\\\\u2022 Flights \\\\n\\\\n\\\\u2022 Accommodation \\\\n\\\\n\\\\u2022 Transfers '\n '\\\\n\\\\n\\\\u2022 Visas \\\\n\\\\n\\\\u2022 Currency Exchange \\\\n\\\\n\\\\u2022 Excursions '\n '\\\\n\\\\n \\\\nWhere We Go \\\\nWhile we can arrange travel to anywhere '\n '\\\\nworldwide, we specialize in trips to: \\\\n\\\\n\\\\u2022 Dubai \\\\n\\\\n\\\\u2022 '\n 'Las Vegas \\\\n\\\\n\\\\u2022 London \\\\n\\\\n\\\\u2022 New York \\\\n\\\\n\\\\u2022 San '\n 'Francisco \\\\n\\\\nWho We Are \\\\nMargie\\\\u2019s Travel employs some of the '\n '\\\\nbest travel experts in the world. Our \\\\nleadership team consists of: '\n '\\\\n\\\\n\\\\u2022 Marjorie Long (CEO) \\\\n\\\\n\\\\u2022 Logan Reid (CFO) '\n '\\\\n\\\\n\\\\u2022 Emma Luffman (CTO) \\\\n\\\\n\\\\u2022 Deepak Nadar (Strategic '\n 'Director) \\\\n\\\\n \\\\n\\\\nTo learn more about us, visit our website at '\n 'www.margiestravel.com '\n '\\\\n\\\\n\\\\n\",\"metadata_storage_size\":354991,\"metadata_storage_last_modified\":\"2020-11-09T11:34:59Z\",\"metadata_storage_name\":\"Margies '\n 'Travel Company '\n 'Info.pdf\",\"metadata_storage_path\":\"aHR0cHM6Ly90ZWFtNHNlYXJjaC5ibG9iLmNvcmUud2luZG93cy5uZXQvdGVhbTRjb250YWluZXIvY29sbGF0ZXJhbC9NYXJnaWVzJTIwVHJhdmVsJTIwQ29tcGFueSUyMEluZm8ucGRm0\",\"id\":null},{\"@search.score\":2.1673164,\"content\":\"\\\\nGreat '\n 'New York Boutique Hotel in quiet Neighbourhood \\\\n\\\\nThe Grand Central '\n 'Hotel, New York, USA \\\\n\\\\n11/8/2018 \\\\n\\\\nThis is a lovely hotel in a great '\n 'area of Manhattan. We were able to walk everywhere and we did just '\n '\\\\n\\\\nthat. Grand Central Station is only mins away as are various bars '\n 'restaurants etc... Thoroughly \\\\n\\\\nrecommend Madison avenue for good value '\n 'burgers and the like.... The room size is good the bed is \\\\n\\\\nabsolutely '\n 'fabulously comfy and it was a lovely surprise for my husband to receive a '\n 'bottle of bubbly \\\\n\\\\nand a small birthday cake shortly after checking in. '\n 'Thank you very much !! The rooms were kept \\\\n\\\\nlovely and clean and we had '\n 'a glass of wine each evening on the house between 5 and 6 another '\n '\\\\n\\\\nlovely touch. Would thoroughly recommend this hotel and next time we '\n 'visit New York it will \\\\n\\\\ndefinitely be to this hotel. \\\\n\\\\nReviewer: '\n 'Eunice Vinson '\n '\\\\n\\\\n\\\\n\",\"metadata_storage_size\":114864,\"metadata_storage_last_modified\":\"2020-11-09T11:33:19Z\",\"metadata_storage_name\":\"201838.pdf\",\"metadata_storage_path\":\"aHR0cHM6Ly90ZWFtNHNlYXJjaC5ibG9iLmNvcmUud2luZG93cy5uZXQvdGVhbTRjb250YWluZXIvcmV2aWV3LzIwMTgzOC5wZGY1\",\"id\":null},{\"@search.score\":1.896123,\"content\":\"\\\\nExcellent '\n 'location and value for money \\\\n\\\\nThe Manhattan Hotel, New York, USA '\n '\\\\n\\\\n8/11/2018 \\\\n\\\\nA last-minute booking but well worth it! Stayed here '\n 'from 30 July for 10nts. Spacious rooms and \\\\n\\\\nfriendly staff. The beds '\n 'are quite heavenly. Nothing much to say about the lobby and the elevators '\n \"\\\\n\\\\nthough, but it's no biggie. We especially loved the business centre on \"\n 'the 26th floor - 5 computers \\\\n\\\\nreadily available for guests to use, and '\n 'you can print, too. Times Square is just a 5 minute walk. Close \\\\n\\\\nto '\n 'lots of shopping. Subway is almost next door (57th Street) - Columbus Circle '\n 'is less than a 5min \\\\n\\\\nwalk. Very close to Central Park. We really liked '\n 'this place. \\\\n\\\\nReviewer: Hamsa Nandamuri '\n '\\\\n\\\\n\\\\n\",\"metadata_storage_size\":118903,\"metadata_storage_last_modified\":\"2020-11-09T11:32:49Z\",\"metadata_storage_name\":\"201813.pdf\",\"metadata_storage_path\":\"aHR0cHM6Ly90ZWFtNHNlYXJjaC5ibG9iLmNvcmUud2luZG93cy5uZXQvdGVhbTRjb250YWluZXIvcmV2aWV3LzIwMTgxMy5wZGY1\",\"id\":null},{\"@search.score\":1.6309345,\"content\":\"\\\\nGreat '\n 'location miserable staff \\\\n\\\\nThe Park Hotel, New York, USA '\n '\\\\n\\\\n11/19/2018 \\\\n\\\\nJust spent 4 nights in this hotel , a group of 14 '\n 'friends. Hotel is in a great location and rooms are \\\\n\\\\ncleaned to good '\n 'standard. The housekeeping staff are very helpful and friendly but the '\n 'reception \\\\n\\\\nstaff are miserable and rude ( with the exception of Fred). '\n 'They completely mixed up the booking \\\\n\\\\nand blamed everyone else but '\n 'themselves for their incompetence. Everyone was charged a different '\n '\\\\n\\\\nrate if they experienced breakfast dining and they made no excuses for '\n 'the different charges. We \\\\n\\\\nbooked 2 triple rooms and 4 doubles and they '\n 'took an extra $160 dollars from my sisters account for \\\\n\\\\na third bed '\n 'which had already been paid for without letting her know . She discovered '\n 'they had \\\\n\\\\ntaken the payment from her account when she got back home and '\n 'she now has to try and get the \\\\n\\\\nmoney back. The conciege staff are no '\n 'better. They might know a lot about New York but they know \\\\n\\\\nvery little '\n 'about good customer service! Having said all that, we still had a great '\n 'time. You just have \\\\n\\\\nto be very careful to check your bill before you '\n 'leave! \\\\n\\\\nReviewer: Xin Liao '\n '\\\\n\\\\n\\\\n\",\"metadata_storage_size\":117367,\"metadata_storage_last_modified\":\"2020-11-09T11:33:35Z\",\"metadata_storage_name\":\"201846.pdf\",\"metadata_storage_path\":\"aHR0cHM6Ly90ZWFtNHNlYXJjaC5ibG9iLmNvcmUud2luZG93cy5uZXQvdGVhbTRjb250YWluZXIvcmV2aWV3LzIwMTg0Ni5wZGY1\",\"id\":null},{\"@search.score\":1.6051255,\"content\":\"\\\\nDon\\'t '\n 'go there \\\\n\\\\nThe Grand Central Hotel, New York, USA \\\\n\\\\n10/15/2018 '\n '\\\\n\\\\nThe first room we were given was dark,very small and extremely noisy. '\n 'The staff leave the radio on \\\\n\\\\nin the room in a vain attempt to drown it '\n \"out ! We were told that we couldn't move as the hotel was \\\\n\\\\nfull that \"\n 'night. The receptionist seemed to be expecting our complaint and moved us '\n 'the next day. \\\\n\\\\nThe source of the noise is a huge air conditioning unit '\n 'belonging to another hotel. We were moved \\\\n\\\\nto a room ten floors '\n 'directly above and the noise was still annoying. Do not stay here if you '\n 'like \\\\n\\\\nsleeping at night !I would be surprised if the rooms we stayed in '\n 'would meet UK standards due to \\\\n\\\\nthe noise levels. \\\\n\\\\nReviewer: '\n 'Akanksha Hegde '\n '\\\\n\\\\n\\\\n\",\"metadata_storage_size\":108155,\"metadata_storage_last_modified\":\"2020-11-09T11:33:13Z\",\"metadata_storage_name\":\"201829.pdf\",\"metadata_storage_path\":\"aHR0cHM6Ly90ZWFtNHNlYXJjaC5ibG9iLmNvcmUud2luZG93cy5uZXQvdGVhbTRjb250YWluZXIvcmV2aWV3LzIwMTgyOS5wZGY1\",\"id\":null},{\"@search.score\":1.6051255,\"content\":\"\\\\nGreat '\n 'location overall a nice experience with minor caveats \\\\n\\\\nThe Grand '\n 'Central Hotel, New York, USA \\\\n\\\\n10/19/2018 \\\\n\\\\nOverall, a '\n 'nicely-appointed good mid-price hotel in Midtown.Before you book, ask for a '\n 'room on a \\\\n\\\\nhigher floor to avoid street noise. We were on 3 and had a '\n 'sleepless first night. Staff moved us the \\\\n\\\\nnext day. Also be aware that '\n \"the heat isn't turned on unless it drops below 45 degrees (friendly staff \"\n '\\\\n\\\\nshared this with us.) When we asked for heat, they brought a space '\n 'heater. Cozy rest of stay - so \\\\n\\\\nboth problems corrected.Would stay '\n \"again if I had business in Midtown nearby. Wouldn't be my first \"\n '\\\\n\\\\nchoice. \\\\n\\\\nReviewer: Tabitha Robertson '\n '\\\\n\\\\n\\\\n\",\"metadata_storage_size\":120870,\"metadata_storage_last_modified\":\"2020-11-09T11:33:14Z\",\"metadata_storage_name\":\"201831.pdf\",\"metadata_storage_path\":\"aHR0cHM6Ly90ZWFtNHNlYXJjaC5ibG9iLmNvcmUud2luZG93cy5uZXQvdGVhbTRjb250YWluZXIvcmV2aWV3LzIwMTgzMS5wZGY1\",\"id\":null},{\"@search.score\":1.5561773,\"content\":\"\\\\nA '\n 'Great Deal If You Can Get It. \\\\n\\\\nThe Manhattan Hotel, New York, USA '\n '\\\\n\\\\n10/7/2018 \\\\n\\\\nMy wife and I stayed for a week in September. This was '\n 'our second stay here. Both times we were in \\\\n\\\\na one bedroom suite. The '\n 'suite consists of a separate bedroom with a king bed, flat screen TV, '\n '\\\\n\\\\ncloset, plenty of drawers and a bathroom with tub and shower. Then '\n 'there is a separate living room \\\\n\\\\nwith a TV, an eating area, a mini '\n 'kitchen and another bathroom with a shower. There is daily maid '\n '\\\\n\\\\nservice, good towels and bath amenities. We were on the 25th floor '\n 'with an east view and windows \\\\n\\\\nthat opened. The decor is functional, '\n 'mid-level but clean and more than adequate. On our stay the \\\\n\\\\nelevators '\n 'were running and our limited staff encounters were also fine. I read the '\n 'mixed reviews. I \\\\n\\\\nknow they were having elevator problems but they are '\n 'now ok. Of course, the location is the best. \\\\n\\\\nEasy walking distance to '\n 'MOMA, Lincoln Center, Metropolitan Museum, Central Park, Whole Foods, '\n '\\\\n\\\\netc. Plenty of restaurants in walking distance and easy subway and bus '\n 'access. \\\\n\\\\nReviewer: Leanne Cooper '\n '\\\\n\\\\n\\\\n\",\"metadata_storage_size\":113193,\"metadata_storage_last_modified\":\"2020-11-09T11:33:08Z\",\"metadata_storage_name\":\"201825.pdf\",\"metadata_storage_path\":\"aHR0cHM6Ly90ZWFtNHNlYXJjaC5ibG9iLmNvcmUud2luZG93cy5uZXQvdGVhbTRjb250YWluZXIvcmV2aWV3LzIwMTgyNS5wZGY1\",\"id\":null},{\"@search.score\":0.7727162,\"content\":\"\\\\nGood '\n 'value - Clean and Convenient \\\\n\\\\nThe Kensington Hotel, London, UK '\n '\\\\n\\\\n3/4/2018 \\\\n\\\\nI stayed two nights here and considered it good value '\n \"for money. I'd certainly stay there again.I've \\\\n\\\\nstayed in several \"\n 'budget/tourist hotels in London over the years, and this was definitely one '\n 'of the \\\\n\\\\nbetter ones. My (single) room was spotlessly clean, with a flat '\n 'screen TV and new bathroom. It was \\\\n\\\\non the small side but this is to be '\n \"expected in London budget hotels. One of it's little quirks was that I \"\n '\\\\n\\\\nhad to run the shower for a couple of minutes to get hot water in the '\n 'morning. The odd thing was \\\\n\\\\nthat the hot water in the sink came on '\n 'straight away! My room was at the back on the third floor so \\\\n\\\\nnoise '\n \"from outside wasn't a problem, although I noticed that the walls were pretty \"\n 'thin - I could hear \\\\n\\\\nthe people next door if they raised their '\n 'voices.The Breakfast area was bright and recently \\\\n\\\\ndecorated. Breakfast '\n 'consisted of juices, teabags and instant coffee, cereal, white and brown '\n 'sliced \\\\n\\\\npan (toasters available), croissants, cheese, fruit and some '\n 'tempting pastries.The location is not bad, \\\\n\\\\njust off the Cromwell Road. '\n \"It's a few minutes walk away from Gloucester Road and Earl's Court Tube \"\n '\\\\n\\\\nStations. The Natural History Museum, Science Museum and the Victoria '\n 'and Albert Museums are a \\\\n\\\\n10-15 min. walk away. Hyde Park is a little '\n 'further. \\\\n\\\\nReviewer: Hsiung Chuang '\n '\\\\n\\\\n\\\\n\",\"metadata_storage_size\":118758,\"metadata_storage_last_modified\":\"2020-11-09T11:32:38Z\",\"metadata_storage_name\":\"201804.pdf\",\"metadata_storage_path\":\"aHR0cHM6Ly90ZWFtNHNlYXJjaC5ibG9iLmNvcmUud2luZG93cy5uZXQvdGVhbTRjb250YWluZXIvcmV2aWV3LzIwMTgwNC5wZGY1\",\"id\":null}]}')\n"
     ]
    }
   ],
   "source": [
    "url = \"https://team4search.search.windows.net/indexes/azureblob-index/docs/search?api-version=2020-06-30\"\n",
    "key = \"1E06511BBB85F267480132A504451BBE\"\n",
    "\n",
    "search_body = {  \n",
    "     \"count\": \"true\" , \n",
    "     \"search\": \"New York\",\n",
    "     \"searchFields\": \"content\"\n",
    "   }\n",
    "\n",
    "x = post(url, key, search_body)\n",
    "\n",
    "#print(json.dumps(x, sort_keys=True, indent=2))\n",
    "pprint(x.text)"
   ]
  },
  {
   "cell_type": "code",
   "execution_count": 26,
   "metadata": {},
   "outputs": [],
   "source": [
    "def create_datasource(url,key,body):\n",
    "    return post(url,key,body)"
   ]
  },
  {
   "cell_type": "code",
   "execution_count": 32,
   "metadata": {},
   "outputs": [],
   "source": [
    "def create_index(url,key,body):\n",
    "    return post(url,key,body)"
   ]
  },
  {
   "cell_type": "code",
   "execution_count": 28,
   "metadata": {},
   "outputs": [
    {
     "output_type": "stream",
     "name": "stdout",
     "text": [
      "'{\"@odata.context\":\"https://team4search.search.windows.net/$metadata#datasources/$entity\",\"@odata.etag\":\"\\\\\"0x8D884BB3B9248E6\\\\\"\",\"name\":\"team4searchds2\",\"description\":null,\"type\":\"azureblob\",\"subtype\":null,\"credentials\":{\"connectionString\":null},\"container\":{\"name\":\"team4container\",\"query\":null},\"dataChangeDetectionPolicy\":null,\"dataDeletionDetectionPolicy\":null,\"encryptionKey\":null}'\n"
     ]
    }
   ],
   "source": [
    "url = \"https://team4search.search.windows.net/datasources?api-version=2020-06-30\"\n",
    "key = \"1E06511BBB85F267480132A504451BBE\"\n",
    "\n",
    "datasource_body = {\n",
    "  \"name\": \"team4searchds2\",\n",
    "  \"type\": \"azureblob\",\n",
    "  \"credentials\": {\n",
    "    \"connectionString\": \"DefaultEndpointsProtocol=https;AccountName=team4search;AccountKey=0twWbpR4po8ZD1Xg0mQxdETnl3q2NuBf9bUNMwCDXJeUz9jgdBlwE++ScuC4rKtdtMLOufIo/4iWmwQFtWIGEg==;EndpointSuffix=core.windows.net\"\n",
    "  },\n",
    "  \"container\": {\n",
    "    \"name\": \"team4container\"  \n",
    "    }\n",
    "}\n",
    "x = create_datasource(url, key, datasource_body)\n",
    "pprint(x.text)"
   ]
  },
  {
   "cell_type": "code",
   "execution_count": 35,
   "metadata": {},
   "outputs": [],
   "source": [
    "def create_indexer(url,key,body):\n",
    "    return post(url,key,body)"
   ]
  },
  {
   "cell_type": "code",
   "execution_count": 34,
   "metadata": {},
   "outputs": [
    {
     "output_type": "stream",
     "name": "stdout",
     "text": [
      "'{\"@odata.context\":\"https://team4search.search.windows.net/$metadata#indexes/$entity\",\"@odata.etag\":\"\\\\\"0x8D884BE9991EB68\\\\\"\",\"name\":\"azureblob-index2\",\"defaultScoringProfile\":null,\"fields\":[{\"name\":\"id\",\"type\":\"Edm.String\",\"searchable\":false,\"filterable\":false,\"retrievable\":true,\"sortable\":false,\"facetable\":false,\"key\":true,\"indexAnalyzer\":null,\"searchAnalyzer\":null,\"analyzer\":null,\"synonymMaps\":[]},{\"name\":\"content\",\"type\":\"Edm.String\",\"searchable\":true,\"filterable\":true,\"retrievable\":true,\"sortable\":false,\"facetable\":false,\"key\":false,\"indexAnalyzer\":null,\"searchAnalyzer\":null,\"analyzer\":\"standard.lucene\",\"synonymMaps\":[]},{\"name\":\"url\",\"type\":\"Edm.String\",\"searchable\":true,\"filterable\":true,\"retrievable\":true,\"sortable\":false,\"facetable\":false,\"key\":false,\"indexAnalyzer\":null,\"searchAnalyzer\":null,\"analyzer\":\"standard.lucene\",\"synonymMaps\":[]},{\"name\":\"file_name\",\"type\":\"Edm.String\",\"searchable\":true,\"filterable\":true,\"retrievable\":true,\"sortable\":false,\"facetable\":false,\"key\":false,\"indexAnalyzer\":null,\"searchAnalyzer\":null,\"analyzer\":\"standard.lucene\",\"synonymMaps\":[]},{\"name\":\"size\",\"type\":\"Edm.Int64\",\"searchable\":false,\"filterable\":true,\"retrievable\":true,\"sortable\":true,\"facetable\":false,\"key\":false,\"indexAnalyzer\":null,\"searchAnalyzer\":null,\"analyzer\":null,\"synonymMaps\":[]},{\"name\":\"last_modified\",\"type\":\"Edm.DateTimeOffset\",\"searchable\":false,\"filterable\":true,\"retrievable\":true,\"sortable\":true,\"facetable\":false,\"key\":false,\"indexAnalyzer\":null,\"searchAnalyzer\":null,\"analyzer\":null,\"synonymMaps\":[]}],\"scoringProfiles\":[],\"corsOptions\":null,\"suggesters\":[],\"analyzers\":[],\"tokenizers\":[],\"tokenFilters\":[],\"charFilters\":[],\"encryptionKey\":null,\"similarity\":{\"@odata.type\":\"#Microsoft.Azure.Search.BM25Similarity\",\"k1\":null,\"b\":null}}'\n"
     ]
    }
   ],
   "source": [
    "index_body = {\n",
    "  \"name\": \"azureblob-index2\",\n",
    "  \"fields\": [\n",
    "       {\n",
    "      \"name\": \"id\",\n",
    "      \"type\": \"Edm.String\",\n",
    "      \"facetable\": False,\n",
    "      \"filterable\": False,\n",
    "      \"key\": True,\n",
    "      \"retrievable\": True,\n",
    "      \"searchable\": False,\n",
    "      \"sortable\": False\n",
    "    },\n",
    "    {\n",
    "      \"name\": \"content\",\n",
    "      \"type\": \"Edm.String\",\n",
    "      \"facetable\": False,\n",
    "      \"filterable\": True,\n",
    "      \"key\": False,\n",
    "      \"retrievable\": True,\n",
    "      \"searchable\": True,\n",
    "      \"sortable\": False,\n",
    "      \"analyzer\": \"standard.lucene\"\n",
    "    },\n",
    "    {\n",
    "      \"name\": \"url\",\n",
    "      \"type\": \"Edm.String\",\n",
    "      \"facetable\": False,\n",
    "      \"filterable\": True,\n",
    "      \"key\": False,\n",
    "      \"retrievable\": True,\n",
    "      \"searchable\": True,\n",
    "      \"sortable\": False,\n",
    "      \"analyzer\": \"standard.lucene\" \n",
    "    },\n",
    "    {\n",
    "      \"name\": \"file_name\",\n",
    "      \"type\": \"Edm.String\",\n",
    "      \"facetable\": False,\n",
    "      \"filterable\": True,\n",
    "      \"key\": False,\n",
    "      \"retrievable\": True,\n",
    "      \"searchable\": True,\n",
    "      \"sortable\": False,\n",
    "      \"analyzer\": \"standard.lucene\" \n",
    "    },\n",
    "    {\n",
    "      \"name\": \"size\",\n",
    "      \"type\": \"Edm.Int64\",\n",
    "      \"facetable\": False,\n",
    "      \"filterable\": True,\n",
    "      \"retrievable\": True,\n",
    "      \"sortable\": True,\n",
    "      \"searchable\": False\n",
    "    },\n",
    "    {\n",
    "      \"name\": \"last_modified\",\n",
    "      \"type\": \"Edm.DateTimeOffset\",\n",
    "      \"facetable\": False,\n",
    "      \"filterable\": True,\n",
    "      \"retrievable\": True,\n",
    "      \"sortable\": True,\n",
    "      \"searchable\": False\n",
    "    }\n",
    "  ]\n",
    "}\n",
    "url = \"https://team4search.search.windows.net/indexes?api-version=2020-06-30\"\n",
    "x = create_index(url, key, index_body)\n",
    "pprint(x.text)"
   ]
  },
  {
   "cell_type": "code",
   "execution_count": 36,
   "metadata": {},
   "outputs": [
    {
     "output_type": "stream",
     "name": "stdout",
     "text": [
      "'{\"@odata.context\":\"https://team4search.search.windows.net/$metadata#indexers/$entity\",\"@odata.etag\":\"\\\\\"0x8D884C0400248A7\\\\\"\",\"name\":\"azureblob-indexer2\",\"description\":null,\"dataSourceName\":\"team4searchds2\",\"skillsetName\":null,\"targetIndexName\":\"azureblob-index2\",\"disabled\":null,\"schedule\":null,\"parameters\":{\"batchSize\":null,\"maxFailedItems\":0,\"maxFailedItemsPerBatch\":0,\"base64EncodeKeys\":null,\"configuration\":{\"dataToExtract\":\"contentAndMetadata\",\"parsingMode\":\"default\"}},\"fieldMappings\":[{\"sourceFieldName\":\"metadata_storage_path\",\"targetFieldName\":\"id\",\"mappingFunction\":{\"name\":\"base64Encode\",\"parameters\":null}},{\"sourceFieldName\":\"metadata_storage_path\",\"targetFieldName\":\"url\",\"mappingFunction\":null},{\"sourceFieldName\":\"content\",\"targetFieldName\":\"content\",\"mappingFunction\":null},{\"sourceFieldName\":\"metadata_storage_name\",\"targetFieldName\":\"file_name\",\"mappingFunction\":null},{\"sourceFieldName\":\"metadata_storage_size\",\"targetFieldName\":\"size\",\"mappingFunction\":null},{\"sourceFieldName\":\"metadata_storage_last_modified\",\"targetFieldName\":\"last_modified\",\"mappingFunction\":null}],\"outputFieldMappings\":[],\"encryptionKey\":null}'\n"
     ]
    }
   ],
   "source": [
    "indexer_body={\n",
    "  \"name\": \"azureblob-indexer2\",\n",
    "  \"dataSourceName\": \"team4searchds2\",\n",
    "  \"targetIndexName\": \"azureblob-index2\",\n",
    "  \"parameters\": {\n",
    "    \"maxFailedItems\": 0,\n",
    "    \"maxFailedItemsPerBatch\": 0,\n",
    "    \"configuration\": {\n",
    "      \"dataToExtract\": \"contentAndMetadata\",\n",
    "      \"parsingMode\": \"default\"\n",
    "    }\n",
    "  },\n",
    "  \"fieldMappings\": [\n",
    "    {\n",
    "      \"sourceFieldName\": \"metadata_storage_path\",\n",
    "      \"targetFieldName\": \"id\",\n",
    "      \"mappingFunction\": {\n",
    "        \"name\": \"base64Encode\"\n",
    "      }\n",
    "    },\n",
    "    {\n",
    "      \"sourceFieldName\": \"metadata_storage_path\",\n",
    "      \"targetFieldName\": \"url\"\n",
    "    },\n",
    "    {\n",
    "      \"sourceFieldName\": \"content\",\n",
    "      \"targetFieldName\": \"content\"\n",
    "    },\n",
    "    {\n",
    "      \"sourceFieldName\": \"metadata_storage_name\",\n",
    "      \"targetFieldName\": \"file_name\"\n",
    "    },\n",
    "    {\n",
    "      \"sourceFieldName\": \"metadata_storage_size\",\n",
    "      \"targetFieldName\": \"size\"\n",
    "    },\n",
    "    {\n",
    "      \"sourceFieldName\": \"metadata_storage_last_modified\",\n",
    "      \"targetFieldName\": \"last_modified\"\n",
    "    },\n",
    "  ]\n",
    "}\n",
    "url = \"https://team4search.search.windows.net/indexers?api-version=2020-06-30\"\n",
    "x = create_indexer(url, key, indexer_body)\n",
    "pprint(x.text)"
   ]
  },
  {
   "cell_type": "code",
   "execution_count": null,
   "metadata": {},
   "outputs": [],
   "source": []
  }
 ],
 "metadata": {
  "kernelspec": {
   "name": "Python 3.8.5 64-bit",
   "display_name": "Python 3.8.5 64-bit",
   "metadata": {
    "interpreter": {
     "hash": "aee8b7b246df8f9039afb4144a1f6fd8d2ca17a180786b69acc140d282b71a49"
    }
   }
  },
  "language_info": {
   "codemirror_mode": {
    "name": "ipython",
    "version": 3
   },
   "file_extension": ".py",
   "mimetype": "text/x-python",
   "name": "python",
   "nbconvert_exporter": "python",
   "pygments_lexer": "ipython3",
   "version": "3.8.5-final"
  }
 },
 "nbformat": 4,
 "nbformat_minor": 4
}