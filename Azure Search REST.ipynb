{
 "cells": [
  {
   "cell_type": "code",
   "execution_count": 15,
   "metadata": {},
   "outputs": [],
   "source": [
    "import json\n",
    "import requests\n",
    "from pprint import pprint"
   ]
  },
  {
   "cell_type": "code",
   "execution_count": null,
   "metadata": {},
   "outputs": [],
   "source": [
    "api_key = \"C2DB86C4FAC098C0CBF4F409F6C27C7F\""
   ]
  },
  {
   "cell_type": "code",
   "execution_count": 16,
   "metadata": {},
   "outputs": [],
   "source": [
    "def envelope(url, key, params={}, json={}, method='get'):\n",
    "    headers = {\n",
    "        'api-key': key,\n",
    "        'Content-Type': 'application/json', \n",
    "        'Accept': 'application/json'\n",
    "    }\n",
    "    if method == 'get':\n",
    "        response = requests.get(url, headers=headers, params=params)\n",
    "    elif method == 'put':\n",
    "        response = requests.put(url, headers=headers, json=json)\n",
    "    elif method == 'post':\n",
    "        response = requests.post(url, headers=headers, json=json)\n",
    "    elif method == 'delete':\n",
    "        response = requests.delete(url, headers=headers, json=json)\n",
    "    else:\n",
    "        raise Error:\n",
    "            stop('Valid methods are get, put, post and delete')\n",
    "    print(response.status_code)\n",
    "    return response.text\n",
    "\n",
    "def create_update_datasource(key, body):\n",
    "    url = \"https://team4search.search.windows.net/datasources/%s?api-version=2020-06-30\" % body['name']\n",
    "    envelope(url=url, key=key, json=body, method='put')\n",
    "    return envelope(url=url, key=key, json=body, method='put')\n",
    "\n",
    "def create_update_index(key, body):\n",
    "    url = \"https://team4search.search.windows.net/indexes/%s?api-version=2020-06-30\" % body['name']\n",
    "    return envelope(url=url, key=key, json=body, method='put')\n",
    "\n",
    "def create_update_indexer(key, body):\n",
    "    url = \"https://team4search.search.windows.net/indexers/%s?api-version=2020-06-30\" % body['name']\n",
    "    return envelope(url=url, key=key, json=body, method='put')\n",
    "\n",
    "def create_update_skillset(key, body):\n",
    "    url = \"https://team4search.search.windows.net/skillsets/%s?api-version=2020-06-30\" % body['name']\n",
    "    return envelope(url=url, key=key, json=body, method='put')\n",
    "    "
   ]
  },
  {
   "cell_type": "code",
   "execution_count": null,
   "metadata": {},
   "outputs": [],
   "source": [
    "key = \"C2DB86C4FAC098C0CBF4F409F6C27C7F\"\n",
    "\n",
    "datasource_body = json.load(open('datasource.json'))\n",
    "x = create_datasource(url=url, key=api_key, body=datasource_body)\n",
    "pprint(x.text)"
   ]
  },
  {
   "cell_type": "code",
   "execution_count": 33,
   "metadata": {},
   "outputs": [
    {
     "output_type": "stream",
     "name": "stdout",
     "text": [
      "{'name': 'azureblob-index2', 'fields': [{'name': 'id', 'type': 'Edm.String', 'facetable': False, 'filterable': False, 'key': True, 'retrievable': True, 'searchable': False, 'sortable': False}, {'name': 'content', 'type': 'Edm.String', 'facetable': False, 'filterable': True, 'key': False, 'retrievable': True, 'searchable': True, 'sortable': False, 'analyzer': 'standard.lucene'}, {'name': 'url', 'type': 'Edm.String', 'facetable': False, 'filterable': True, 'key': False, 'retrievable': True, 'searchable': True, 'sortable': False, 'analyzer': 'standard.lucene'}, {'name': 'file_name', 'type': 'Edm.String', 'facetable': False, 'filterable': True, 'key': False, 'retrievable': True, 'searchable': True, 'sortable': False, 'analyzer': 'standard.lucene'}, {'name': 'size', 'type': 'Edm.Int64', 'facetable': False, 'filterable': True, 'retrievable': True, 'sortable': True, 'searchable': False}, {'name': 'last_modified', 'type': 'Edm.DateTimeOffset', 'facetable': False, 'filterable': True, 'retrievable': True, 'sortable': True, 'searchable': False}]}\n"
     ]
    }
   ],
   "source": [
    "index_body = json.load(open('index.json'))\n",
    "x = create_index(url=url, key=api_key, body=index_body)\n",
    "pprint(x.text)"
   ]
  },
  {
   "cell_type": "code",
   "execution_count": 36,
   "metadata": {},
   "outputs": [
    {
     "output_type": "stream",
     "name": "stdout",
     "text": [
      "'{\"@odata.context\":\"https://team4search.search.windows.net/$metadata#indexers/$entity\",\"@odata.etag\":\"\\\\\"0x8D884C0400248A7\\\\\"\",\"name\":\"azureblob-indexer2\",\"description\":null,\"dataSourceName\":\"team4searchds2\",\"skillsetName\":null,\"targetIndexName\":\"azureblob-index2\",\"disabled\":null,\"schedule\":null,\"parameters\":{\"batchSize\":null,\"maxFailedItems\":0,\"maxFailedItemsPerBatch\":0,\"base64EncodeKeys\":null,\"configuration\":{\"dataToExtract\":\"contentAndMetadata\",\"parsingMode\":\"default\"}},\"fieldMappings\":[{\"sourceFieldName\":\"metadata_storage_path\",\"targetFieldName\":\"id\",\"mappingFunction\":{\"name\":\"base64Encode\",\"parameters\":null}},{\"sourceFieldName\":\"metadata_storage_path\",\"targetFieldName\":\"url\",\"mappingFunction\":null},{\"sourceFieldName\":\"content\",\"targetFieldName\":\"content\",\"mappingFunction\":null},{\"sourceFieldName\":\"metadata_storage_name\",\"targetFieldName\":\"file_name\",\"mappingFunction\":null},{\"sourceFieldName\":\"metadata_storage_size\",\"targetFieldName\":\"size\",\"mappingFunction\":null},{\"sourceFieldName\":\"metadata_storage_last_modified\",\"targetFieldName\":\"last_modified\",\"mappingFunction\":null}],\"outputFieldMappings\":[],\"encryptionKey\":null}'\n"
     ]
    }
   ],
   "source": [
    "indexer_body = json.load(open('indexer.json'))\n",
    "x = create_indexer(url=url, key=api_key, body=indexer_body)\n",
    "pprint(x.text)"
   ]
  },
  {
   "cell_type": "code",
   "execution_count": 11,
   "metadata": {},
   "outputs": [
    {
     "output_type": "stream",
     "name": "stdout",
     "text": [
      "\n"
     ]
    }
   ],
   "source": [
    "skillset_body = json.load(open('skillset.json'))\n",
    "x = create_update_skillset(url=url, key=api_key, body=skillset_body)\n",
    "print(x.text)"
   ]
  },
  {
   "cell_type": "code",
   "execution_count": 14,
   "metadata": {},
   "outputs": [
    {
     "output_type": "stream",
     "name": "stdout",
     "text": [
      "204\n\n"
     ]
    }
   ],
   "source": [
    "indexer_update_body = { \n",
    "    \"dataSourceName\": \"team4searchds2\",\n",
    "    \"targetIndexName\": \"azureblob-index2\",\n",
    "    \"skillsetName\": \"traveldocenricher\"\n",
    "}\n",
    "x = create_update_skillset(url, key, indexer_update_body)\n",
    "print(x.text)"
   ]
  }
 ],
 "metadata": {
  "kernelspec": {
   "name": "Python 3.8.3 64-bit (conda)",
   "display_name": "Python 3.8.3 64-bit (conda)",
   "metadata": {
    "interpreter": {
     "hash": "a7b3a1c0fce9e2b2dd233dce6ec84055931efd016afe2a581e32e4e5c9f4f93d"
    }
   }
  },
  "language_info": {
   "codemirror_mode": {
    "name": "ipython",
    "version": 3
   },
   "file_extension": ".py",
   "mimetype": "text/x-python",
   "name": "python",
   "nbconvert_exporter": "python",
   "pygments_lexer": "ipython3",
   "version": "3.8.3-final"
  }
 },
 "nbformat": 4,
 "nbformat_minor": 4
}