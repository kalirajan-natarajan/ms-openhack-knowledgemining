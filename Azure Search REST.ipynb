{
 "cells": [
  {
   "cell_type": "code",
   "execution_count": 20,
   "metadata": {},
   "outputs": [],
   "source": [
    "import json\n",
    "import requests\n",
    "from pprint import pprint"
   ]
  },
  {
   "cell_type": "code",
   "execution_count": 21,
   "metadata": {},
   "outputs": [],
   "source": [
    "def get(url, key, params={}):\n",
    "    headers = {'api-key': key,\n",
    "               'Content-Type': 'application/json', \n",
    "               'Accept': 'application/json' }\n",
    "    return requests.get(url, headers=headers, params=params)\n",
    "\n",
    "def post(url, key, json={}):\n",
    "    headers = {'api-key': key,\n",
    "               'Content-Type': 'application/json', \n",
    "               'Accept': 'application/json' }\n",
    "    return requests.post(url, headers=headers, json=json)    "
   ]
  },
  {
   "cell_type": "code",
   "execution_count": 26,
   "metadata": {},
   "outputs": [],
   "source": [
    "def create_datasource(url,key,body):\n",
    "    return post(url,key,body)"
   ]
  },
  {
   "cell_type": "code",
   "execution_count": 32,
   "metadata": {},
   "outputs": [],
   "source": [
    "def create_index(url,key,body):\n",
    "    return post(url,key,body)"
   ]
  },
  {
   "cell_type": "code",
   "execution_count": 35,
   "metadata": {},
   "outputs": [],
   "source": [
    "def create_indexer(url,key,body):\n",
    "    return post(url,key,body)"
   ]
  },
  {
   "cell_type": "code",
   "execution_count": null,
   "metadata": {},
   "outputs": [],
   "source": [
    "url = \"https://team4search.search.windows.net/datasources?api-version=2020-06-30\"\n",
    "key = #KEY TO BE ADDED HERE\n",
    "\n",
    "datasource_body = {\n",
    "  \"name\": \"team4searchds2\",\n",
    "  \"type\": \"azureblob\",\n",
    "  \"credentials\": {\n",
    "    \"connectionString\": \"DefaultEndpointsProtocol=https;AccountName=team4search;AccountKey=0twWbpR4po8ZD1Xg0mQxdETnl3q2NuBf9bUNMwCDXJeUz9jgdBlwE++ScuC4rKtdtMLOufIo/4iWmwQFtWIGEg==;EndpointSuffix=core.windows.net\"\n",
    "  },\n",
    "  \"container\": {\n",
    "    \"name\": \"team4container\"  \n",
    "    }\n",
    "}\n",
    "x = create_datasource(url, key, datasource_body)\n",
    "pprint(x.text)"
   ]
  },
  {
   "cell_type": "code",
   "execution_count": null,
   "metadata": {},
   "outputs": [],
   "source": [
    "index_body = {\n",
    "  \"name\": \"azureblob-index2\",\n",
    "  \"fields\": [\n",
    "       {\n",
    "      \"name\": \"id\",\n",
    "      \"type\": \"Edm.String\",\n",
    "      \"facetable\": False,\n",
    "      \"filterable\": False,\n",
    "      \"key\": True,\n",
    "      \"retrievable\": True,\n",
    "      \"searchable\": False,\n",
    "      \"sortable\": False\n",
    "    },\n",
    "    {\n",
    "      \"name\": \"content\",\n",
    "      \"type\": \"Edm.String\",\n",
    "      \"facetable\": False,\n",
    "      \"filterable\": True,\n",
    "      \"key\": False,\n",
    "      \"retrievable\": True,\n",
    "      \"searchable\": True,\n",
    "      \"sortable\": False,\n",
    "      \"analyzer\": \"standard.lucene\"\n",
    "    },\n",
    "    {\n",
    "      \"name\": \"url\",\n",
    "      \"type\": \"Edm.String\",\n",
    "      \"facetable\": False,\n",
    "      \"filterable\": True,\n",
    "      \"key\": False,\n",
    "      \"retrievable\": True,\n",
    "      \"searchable\": True,\n",
    "      \"sortable\": False,\n",
    "      \"analyzer\": \"standard.lucene\" \n",
    "    },\n",
    "    {\n",
    "      \"name\": \"file_name\",\n",
    "      \"type\": \"Edm.String\",\n",
    "      \"facetable\": False,\n",
    "      \"filterable\": True,\n",
    "      \"key\": False,\n",
    "      \"retrievable\": True,\n",
    "      \"searchable\": True,\n",
    "      \"sortable\": False,\n",
    "      \"analyzer\": \"standard.lucene\" \n",
    "    },\n",
    "    {\n",
    "      \"name\": \"size\",\n",
    "      \"type\": \"Edm.Int64\",\n",
    "      \"facetable\": False,\n",
    "      \"filterable\": True,\n",
    "      \"retrievable\": True,\n",
    "      \"sortable\": True,\n",
    "      \"searchable\": False\n",
    "    },\n",
    "    {\n",
    "      \"name\": \"last_modified\",\n",
    "      \"type\": \"Edm.DateTimeOffset\",\n",
    "      \"facetable\": False,\n",
    "      \"filterable\": True,\n",
    "      \"retrievable\": True,\n",
    "      \"sortable\": True,\n",
    "      \"searchable\": False\n",
    "    }\n",
    "  ]\n",
    "}\n",
    "url = \"https://team4search.search.windows.net/indexes?api-version=2020-06-30\"\n",
    "x = create_index(url, key, index_body)\n",
    "pprint(x.text)"
   ]
  },
  {
   "cell_type": "code",
   "execution_count": 36,
   "metadata": {},
   "outputs": [
    {
     "output_type": "stream",
     "name": "stdout",
     "text": [
      "'{\"@odata.context\":\"https://team4search.search.windows.net/$metadata#indexers/$entity\",\"@odata.etag\":\"\\\\\"0x8D884C0400248A7\\\\\"\",\"name\":\"azureblob-indexer2\",\"description\":null,\"dataSourceName\":\"team4searchds2\",\"skillsetName\":null,\"targetIndexName\":\"azureblob-index2\",\"disabled\":null,\"schedule\":null,\"parameters\":{\"batchSize\":null,\"maxFailedItems\":0,\"maxFailedItemsPerBatch\":0,\"base64EncodeKeys\":null,\"configuration\":{\"dataToExtract\":\"contentAndMetadata\",\"parsingMode\":\"default\"}},\"fieldMappings\":[{\"sourceFieldName\":\"metadata_storage_path\",\"targetFieldName\":\"id\",\"mappingFunction\":{\"name\":\"base64Encode\",\"parameters\":null}},{\"sourceFieldName\":\"metadata_storage_path\",\"targetFieldName\":\"url\",\"mappingFunction\":null},{\"sourceFieldName\":\"content\",\"targetFieldName\":\"content\",\"mappingFunction\":null},{\"sourceFieldName\":\"metadata_storage_name\",\"targetFieldName\":\"file_name\",\"mappingFunction\":null},{\"sourceFieldName\":\"metadata_storage_size\",\"targetFieldName\":\"size\",\"mappingFunction\":null},{\"sourceFieldName\":\"metadata_storage_last_modified\",\"targetFieldName\":\"last_modified\",\"mappingFunction\":null}],\"outputFieldMappings\":[],\"encryptionKey\":null}'\n"
     ]
    }
   ],
   "source": [
    "indexer_body={\n",
    "  \"name\": \"azureblob-indexer2\",\n",
    "  \"dataSourceName\": \"team4searchds2\",\n",
    "  \"targetIndexName\": \"azureblob-index2\",\n",
    "  \"parameters\": {\n",
    "    \"maxFailedItems\": 0,\n",
    "    \"maxFailedItemsPerBatch\": 0,\n",
    "    \"configuration\": {\n",
    "      \"dataToExtract\": \"contentAndMetadata\",\n",
    "      \"parsingMode\": \"default\"\n",
    "    }\n",
    "  },\n",
    "  \"fieldMappings\": [\n",
    "    {\n",
    "      \"sourceFieldName\": \"metadata_storage_path\",\n",
    "      \"targetFieldName\": \"id\",\n",
    "      \"mappingFunction\": {\n",
    "        \"name\": \"base64Encode\"\n",
    "      }\n",
    "    },\n",
    "    {\n",
    "      \"sourceFieldName\": \"metadata_storage_path\",\n",
    "      \"targetFieldName\": \"url\"\n",
    "    },\n",
    "    {\n",
    "      \"sourceFieldName\": \"content\",\n",
    "      \"targetFieldName\": \"content\"\n",
    "    },\n",
    "    {\n",
    "      \"sourceFieldName\": \"metadata_storage_name\",\n",
    "      \"targetFieldName\": \"file_name\"\n",
    "    },\n",
    "    {\n",
    "      \"sourceFieldName\": \"metadata_storage_size\",\n",
    "      \"targetFieldName\": \"size\"\n",
    "    },\n",
    "    {\n",
    "      \"sourceFieldName\": \"metadata_storage_last_modified\",\n",
    "      \"targetFieldName\": \"last_modified\"\n",
    "    },\n",
    "  ]\n",
    "}\n",
    "url = \"https://team4search.search.windows.net/indexers?api-version=2020-06-30\"\n",
    "x = create_indexer(url, key, indexer_body)\n",
    "pprint(x.text)"
   ]
  }
 ],
 "metadata": {
  "kernelspec": {
   "name": "Python 3.8.5 64-bit",
   "display_name": "Python 3.8.5 64-bit",
   "metadata": {
    "interpreter": {
     "hash": "aee8b7b246df8f9039afb4144a1f6fd8d2ca17a180786b69acc140d282b71a49"
    }
   }
  },
  "language_info": {
   "codemirror_mode": {
    "name": "ipython",
    "version": 3
   },
   "file_extension": ".py",
   "mimetype": "text/x-python",
   "name": "python",
   "nbconvert_exporter": "python",
   "pygments_lexer": "ipython3",
   "version": "3.8.5-final"
  }
 },
 "nbformat": 4,
 "nbformat_minor": 4
}