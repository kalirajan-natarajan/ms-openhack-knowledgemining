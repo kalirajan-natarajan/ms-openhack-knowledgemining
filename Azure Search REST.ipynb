{
 "cells": [
  {
   "cell_type": "code",
   "execution_count": 1,
   "metadata": {},
   "outputs": [],
   "source": [
    "import json\n",
    "import requests\n",
    "from pprint import pprint"
   ]
  },
  {
   "cell_type": "code",
   "execution_count": 2,
   "metadata": {},
   "outputs": [],
   "source": [
    "api_key = \"C2DB86C4FAC098C0CBF4F409F6C27C7F\""
   ]
  },
  {
   "cell_type": "code",
   "execution_count": 28,
   "metadata": {},
   "outputs": [],
   "source": [
    "def envelope(url, key, params={}, json={}, method='get'):\n",
    "    headers = {\n",
    "        'api-key': key,\n",
    "        'Content-Type': 'application/json', \n",
    "        'Accept': 'application/json'\n",
    "    }\n",
    "    if method == 'get':\n",
    "        response = requests.get(url, headers=headers, params=params)\n",
    "    elif method == 'put':\n",
    "        response = requests.put(url, headers=headers, json=json)\n",
    "    elif method == 'post':\n",
    "        response = requests.post(url, headers=headers, json=json)\n",
    "    elif method == 'delete':\n",
    "        response = requests.delete(url, headers=headers)\n",
    "    else:\n",
    "        raise Exception('Valid methods are get, put, post and delete')\n",
    "            \n",
    "    print(response.status_code)\n",
    "    return response\n",
    "\n",
    "def create_update_datasource(key, body):\n",
    "    url = \"https://team4search.search.windows.net/datasources/%s?api-version=2020-06-30\" % body['name']\n",
    "    envelope(url=url, key=key, json=body, method='put')\n",
    "    return envelope(url=url, key=key, json=body, method='put')\n",
    "\n",
    "def create_index(key, body):\n",
    "    url = \"https://team4search.search.windows.net/indexes?api-version=2020-06-30\" \n",
    "    return envelope(url=url, key=key, json=body, method='post')\n",
    "\n",
    "def create_update_index(key, body):\n",
    "    url = \"https://team4search.search.windows.net/indexes/%s?api-version=2020-06-30\" % body['name']\n",
    "    return envelope(url=url, key=key, json=body, method='put')\n",
    "\n",
    "def create_update_indexer(key, body):\n",
    "    url = \"https://team4search.search.windows.net/indexers/%s?api-version=2020-06-30\" % body['name']\n",
    "    return envelope(url=url, key=key, json=body, method='put')\n",
    "def reset_indexer(key, body):\n",
    "    url = \"https://team4search.search.windows.net/indexers/%s/reset?api-version=2020-06-30\" % body['name']\n",
    "    return envelope(url=url, key=key,  method='post')\n",
    "def run_indexer(key, body):\n",
    "    url = \"https://team4search.search.windows.net/indexers/%s/run?api-version=2020-06-30\" % body['name']\n",
    "    return envelope(url=url, key=key,  method='post')    \n",
    "def rerun_indexer(key, body):\n",
    "    reset_response = reset_indexer(key, body) \n",
    "    print (reset_response.status_code)\n",
    "    if (reset_response.status_code == 204):\n",
    "        return run_indexer(key, body)\n",
    "def create_update_skillset(key, body):\n",
    "    url = \"https://team4search.search.windows.net/skillsets/%s?api-version=2020-06-30\" % body['name']\n",
    "    return envelope(url=url, key=key, json=body, method='put')\n",
    "def recreate_index(key, body):\n",
    "    delete_url = \"https://team4search.search.windows.net/indexes/%s?api-version=2020-06-30\" % body['name']\n",
    "    delete_response = envelope(url=delete_url, key=key, method='delete') \n",
    "    print(delete_response.status_code)   \n",
    "    if (delete_response.status_code == 204):\n",
    "        create_url = \"https://team4search.search.windows.net/indexes?api-version=2020-06-30\"\n",
    "        return envelope(url=create_url, key=key, json=body, method='post')\n",
    "\n",
    "    "
   ]
  },
  {
   "cell_type": "code",
   "execution_count": null,
   "metadata": {},
   "outputs": [],
   "source": [
    "key = \"C2DB86C4FAC098C0CBF4F409F6C27C7F\"\n",
    "\n",
    "datasource_body = json.load(open('datasource.json'))\n",
    "x = create_datasource(url=url, key=api_key, body=datasource_body)\n",
    "pprint(x.text)"
   ]
  },
  {
   "cell_type": "code",
   "execution_count": 20,
   "metadata": {},
   "outputs": [
    {
     "output_type": "stream",
     "name": "stdout",
     "text": [
      "201\n'{\"@odata.context\":\"https://team4search.search.windows.net/$metadata#indexes/$entity\",\"@odata.etag\":\"\\\\\"0x8D8855FCEF780D2\\\\\"\",\"name\":\"azureblob-index2\",\"defaultScoringProfile\":null,\"fields\":[{\"name\":\"id\",\"type\":\"Edm.String\",\"searchable\":false,\"filterable\":false,\"retrievable\":true,\"sortable\":false,\"facetable\":false,\"key\":true,\"indexAnalyzer\":null,\"searchAnalyzer\":null,\"analyzer\":null,\"synonymMaps\":[]},{\"name\":\"content\",\"type\":\"Edm.String\",\"searchable\":true,\"filterable\":true,\"retrievable\":true,\"sortable\":false,\"facetable\":false,\"key\":false,\"indexAnalyzer\":null,\"searchAnalyzer\":null,\"analyzer\":\"standard.lucene\",\"synonymMaps\":[]},{\"name\":\"url\",\"type\":\"Edm.String\",\"searchable\":true,\"filterable\":true,\"retrievable\":true,\"sortable\":false,\"facetable\":false,\"key\":false,\"indexAnalyzer\":null,\"searchAnalyzer\":null,\"analyzer\":\"standard.lucene\",\"synonymMaps\":[]},{\"name\":\"file_name\",\"type\":\"Edm.String\",\"searchable\":true,\"filterable\":true,\"retrievable\":true,\"sortable\":false,\"facetable\":false,\"key\":false,\"indexAnalyzer\":null,\"searchAnalyzer\":null,\"analyzer\":\"standard.lucene\",\"synonymMaps\":[]},{\"name\":\"size\",\"type\":\"Edm.Int64\",\"searchable\":false,\"filterable\":true,\"retrievable\":true,\"sortable\":true,\"facetable\":false,\"key\":false,\"indexAnalyzer\":null,\"searchAnalyzer\":null,\"analyzer\":null,\"synonymMaps\":[]},{\"name\":\"last_modified\",\"type\":\"Edm.DateTimeOffset\",\"searchable\":false,\"filterable\":true,\"retrievable\":true,\"sortable\":true,\"facetable\":false,\"key\":false,\"indexAnalyzer\":null,\"searchAnalyzer\":null,\"analyzer\":null,\"synonymMaps\":[]},{\"name\":\"sentiment_score\",\"type\":\"Edm.Double\",\"searchable\":false,\"filterable\":true,\"retrievable\":true,\"sortable\":true,\"facetable\":false,\"key\":false,\"indexAnalyzer\":null,\"searchAnalyzer\":null,\"analyzer\":null,\"synonymMaps\":[]},{\"name\":\"key_phrases\",\"type\":\"Collection(Edm.String)\",\"searchable\":false,\"filterable\":true,\"retrievable\":true,\"sortable\":false,\"facetable\":false,\"key\":false,\"indexAnalyzer\":null,\"searchAnalyzer\":null,\"analyzer\":null,\"synonymMaps\":[]},{\"name\":\"enriched\",\"type\":\"Edm.String\",\"searchable\":false,\"filterable\":false,\"retrievable\":true,\"sortable\":false,\"facetable\":false,\"key\":false,\"indexAnalyzer\":null,\"searchAnalyzer\":null,\"analyzer\":null,\"synonymMaps\":[]}],\"scoringProfiles\":[],\"corsOptions\":null,\"suggesters\":[],\"analyzers\":[],\"tokenizers\":[],\"tokenFilters\":[],\"charFilters\":[],\"encryptionKey\":null,\"similarity\":{\"@odata.type\":\"#Microsoft.Azure.Search.BM25Similarity\",\"k1\":null,\"b\":null}}'\n"
     ]
    }
   ],
   "source": [
    "index_body = json.load(open('index.json'))\n",
    "x = create_index(key=api_key, body=index_body)\n",
    "pprint(x.text)"
   ]
  },
  {
   "cell_type": "code",
   "execution_count": 36,
   "metadata": {},
   "outputs": [
    {
     "output_type": "stream",
     "name": "stdout",
     "text": [
      "'{\"@odata.context\":\"https://team4search.search.windows.net/$metadata#indexers/$entity\",\"@odata.etag\":\"\\\\\"0x8D884C0400248A7\\\\\"\",\"name\":\"azureblob-indexer2\",\"description\":null,\"dataSourceName\":\"team4searchds2\",\"skillsetName\":null,\"targetIndexName\":\"azureblob-index2\",\"disabled\":null,\"schedule\":null,\"parameters\":{\"batchSize\":null,\"maxFailedItems\":0,\"maxFailedItemsPerBatch\":0,\"base64EncodeKeys\":null,\"configuration\":{\"dataToExtract\":\"contentAndMetadata\",\"parsingMode\":\"default\"}},\"fieldMappings\":[{\"sourceFieldName\":\"metadata_storage_path\",\"targetFieldName\":\"id\",\"mappingFunction\":{\"name\":\"base64Encode\",\"parameters\":null}},{\"sourceFieldName\":\"metadata_storage_path\",\"targetFieldName\":\"url\",\"mappingFunction\":null},{\"sourceFieldName\":\"content\",\"targetFieldName\":\"content\",\"mappingFunction\":null},{\"sourceFieldName\":\"metadata_storage_name\",\"targetFieldName\":\"file_name\",\"mappingFunction\":null},{\"sourceFieldName\":\"metadata_storage_size\",\"targetFieldName\":\"size\",\"mappingFunction\":null},{\"sourceFieldName\":\"metadata_storage_last_modified\",\"targetFieldName\":\"last_modified\",\"mappingFunction\":null}],\"outputFieldMappings\":[],\"encryptionKey\":null}'\n"
     ]
    }
   ],
   "source": [
    "indexer_body = json.load(open('indexer.json'))\n",
    "x = create_indexer(url=url, key=api_key, body=indexer_body)\n",
    "pprint(x.text)"
   ]
  },
  {
   "cell_type": "code",
   "execution_count": 11,
   "metadata": {},
   "outputs": [
    {
     "output_type": "stream",
     "name": "stdout",
     "text": [
      "\n"
     ]
    }
   ],
   "source": [
    "skillset_body = json.load(open('skillset.json'))\n",
    "x = create_update_skillset(url=url, key=api_key, body=skillset_body)\n",
    "print(x.text)"
   ]
  },
  {
   "cell_type": "code",
   "execution_count": 30,
   "metadata": {},
   "outputs": [
    {
     "output_type": "stream",
     "name": "stdout",
     "text": [
      "204\n\n"
     ]
    }
   ],
   "source": [
    "indexer_update_body = json.load(open('indexer.json'))\n",
    "x = create_update_indexer( api_key, indexer_update_body)\n",
    "print(x.text)"
   ]
  },
  {
   "cell_type": "code",
   "execution_count": 27,
   "metadata": {},
   "outputs": [
    {
     "output_type": "stream",
     "name": "stdout",
     "text": [
      "204\n\n"
     ]
    }
   ],
   "source": [
    "indexer_update_body = json.load(open('indexer.json'))\n",
    "x = rerun_indexer( api_key, indexer_update_body)\n",
    "print(x.text)"
   ]
  },
  {
   "cell_type": "code",
   "execution_count": 29,
   "metadata": {},
   "outputs": [
    {
     "output_type": "stream",
     "name": "stdout",
     "text": [
      "204\n",
      "204\n",
      "201\n",
      "'{\"@odata.context\":\"https://team4search.search.windows.net/$metadata#indexes/$entity\",\"@odata.etag\":\"\\\\\"0x8D88569E7F796F7\\\\\"\",\"name\":\"azureblob-index2\",\"defaultScoringProfile\":null,\"fields\":[{\"name\":\"id\",\"type\":\"Edm.String\",\"searchable\":false,\"filterable\":false,\"retrievable\":true,\"sortable\":false,\"facetable\":false,\"key\":true,\"indexAnalyzer\":null,\"searchAnalyzer\":null,\"analyzer\":null,\"synonymMaps\":[]},{\"name\":\"content\",\"type\":\"Edm.String\",\"searchable\":true,\"filterable\":true,\"retrievable\":true,\"sortable\":false,\"facetable\":false,\"key\":false,\"indexAnalyzer\":null,\"searchAnalyzer\":null,\"analyzer\":\"standard.lucene\",\"synonymMaps\":[]},{\"name\":\"url\",\"type\":\"Edm.String\",\"searchable\":true,\"filterable\":true,\"retrievable\":true,\"sortable\":false,\"facetable\":false,\"key\":false,\"indexAnalyzer\":null,\"searchAnalyzer\":null,\"analyzer\":\"standard.lucene\",\"synonymMaps\":[]},{\"name\":\"file_name\",\"type\":\"Edm.String\",\"searchable\":true,\"filterable\":true,\"retrievable\":true,\"sortable\":false,\"facetable\":false,\"key\":false,\"indexAnalyzer\":null,\"searchAnalyzer\":null,\"analyzer\":\"standard.lucene\",\"synonymMaps\":[]},{\"name\":\"size\",\"type\":\"Edm.Int64\",\"searchable\":false,\"filterable\":true,\"retrievable\":true,\"sortable\":true,\"facetable\":false,\"key\":false,\"indexAnalyzer\":null,\"searchAnalyzer\":null,\"analyzer\":null,\"synonymMaps\":[]},{\"name\":\"last_modified\",\"type\":\"Edm.DateTimeOffset\",\"searchable\":false,\"filterable\":true,\"retrievable\":true,\"sortable\":true,\"facetable\":false,\"key\":false,\"indexAnalyzer\":null,\"searchAnalyzer\":null,\"analyzer\":null,\"synonymMaps\":[]},{\"name\":\"sentiment_score\",\"type\":\"Edm.Double\",\"searchable\":false,\"filterable\":true,\"retrievable\":true,\"sortable\":true,\"facetable\":false,\"key\":false,\"indexAnalyzer\":null,\"searchAnalyzer\":null,\"analyzer\":null,\"synonymMaps\":[]},{\"name\":\"key_phrases\",\"type\":\"Collection(Edm.String)\",\"searchable\":false,\"filterable\":true,\"retrievable\":true,\"sortable\":false,\"facetable\":false,\"key\":false,\"indexAnalyzer\":null,\"searchAnalyzer\":null,\"analyzer\":null,\"synonymMaps\":[]},{\"name\":\"locations\",\"type\":\"Collection(Edm.String)\",\"searchable\":false,\"filterable\":true,\"retrievable\":true,\"sortable\":false,\"facetable\":false,\"key\":false,\"indexAnalyzer\":null,\"searchAnalyzer\":null,\"analyzer\":null,\"synonymMaps\":[]},{\"name\":\"persons\",\"type\":\"Collection(Edm.String)\",\"searchable\":false,\"filterable\":true,\"retrievable\":true,\"sortable\":false,\"facetable\":false,\"key\":false,\"indexAnalyzer\":null,\"searchAnalyzer\":null,\"analyzer\":null,\"synonymMaps\":[]},{\"name\":\"enriched\",\"type\":\"Edm.String\",\"searchable\":false,\"filterable\":false,\"retrievable\":true,\"sortable\":false,\"facetable\":false,\"key\":false,\"indexAnalyzer\":null,\"searchAnalyzer\":null,\"analyzer\":null,\"synonymMaps\":[]}],\"scoringProfiles\":[],\"corsOptions\":null,\"suggesters\":[],\"analyzers\":[],\"tokenizers\":[],\"tokenFilters\":[],\"charFilters\":[],\"encryptionKey\":null,\"similarity\":{\"@odata.type\":\"#Microsoft.Azure.Search.BM25Similarity\",\"k1\":null,\"b\":null}}'\n"
     ]
    }
   ],
   "source": [
    "index_body = json.load(open('index.json'))\n",
    "x = recreate_index(key=api_key, body=index_body)\n",
    "pprint(x.text)"
   ]
  },
  {
   "cell_type": "code",
   "execution_count": null,
   "metadata": {},
   "outputs": [],
   "source": []
  }
 ],
 "metadata": {
  "kernelspec": {
   "name": "Python 3.8.5 64-bit",
   "display_name": "Python 3.8.5 64-bit",
   "metadata": {
    "interpreter": {
     "hash": "1ee38ef4a5a9feb55287fd749643f13d043cb0a7addaab2a9c224cbe137c0062"
    }
   }
  },
  "language_info": {
   "codemirror_mode": {
    "name": "ipython",
    "version": 3
   },
   "file_extension": ".py",
   "mimetype": "text/x-python",
   "name": "python",
   "nbconvert_exporter": "python",
   "pygments_lexer": "ipython3",
   "version": "3.8.5-final"
  }
 },
 "nbformat": 4,
 "nbformat_minor": 4
}