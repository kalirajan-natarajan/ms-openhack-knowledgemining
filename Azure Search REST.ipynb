{
 "cells": [
  {
   "cell_type": "code",
   "execution_count": 1,
   "metadata": {},
   "outputs": [],
   "source": [
    "import json\n",
    "import requests\n",
    "from pprint import pprint"
   ]
  },
  {
   "cell_type": "code",
   "execution_count": 2,
   "metadata": {},
   "outputs": [],
   "source": [
    "api_key = \"C2DB86C4FAC098C0CBF4F409F6C27C7F\""
   ]
  },
  {
   "cell_type": "code",
   "execution_count": 16,
   "metadata": {},
   "outputs": [],
   "source": [
    "def envelope(url, key, params={}, json={}, method='get'):\n",
    "    headers = {\n",
    "        'api-key': key,\n",
    "        'Content-Type': 'application/json', \n",
    "        'Accept': 'application/json'\n",
    "    }\n",
    "    if method == 'get':\n",
    "        response = requests.get(url, headers=headers, params=params)\n",
    "    elif method == 'put':\n",
    "        response = requests.put(url, headers=headers, json=json)\n",
    "    elif method == 'post':\n",
    "        response = requests.post(url, headers=headers, json=json)\n",
    "    elif method == 'delete':\n",
    "        response = requests.delete(url, headers=headers)\n",
    "    else:\n",
    "        raise Exception('Valid methods are get, put, post and delete')\n",
    "            \n",
    "    print(response.status_code)\n",
    "    return response\n",
    "\n",
    "def create_update_datasource(key, body):\n",
    "    url = \"https://team4search.search.windows.net/datasources/%s?api-version=2020-06-30\" % body['name']\n",
    "    envelope(url=url, key=key, json=body, method='put')\n",
    "    return envelope(url=url, key=key, json=body, method='put')\n",
    "\n",
    "def create_index(key, body):\n",
    "    url = \"https://team4search.search.windows.net/indexes?api-version=2020-06-30\" \n",
    "    return envelope(url=url, key=key, json=body, method='post')\n",
    "\n",
    "def create_update_index(key, body):\n",
    "    url = \"https://team4search.search.windows.net/indexes/%s?api-version=2020-06-30\" % body['name']\n",
    "    return envelope(url=url, key=key, json=body, method='put')\n",
    "\n",
    "def create_update_indexer(key, body):\n",
    "    url = \"https://team4search.search.windows.net/indexers/%s?api-version=2020-06-30\" % body['name']\n",
    "    return envelope(url=url, key=key, json=body, method='put')\n",
    "def reset_indexer(key, body):\n",
    "    url = \"https://team4search.search.windows.net/indexers/%s/reset?api-version=2020-06-30\" % body['name']\n",
    "    return envelope(url=url, key=key,  method='post')\n",
    "def run_indexer(key, body):\n",
    "    url = \"https://team4search.search.windows.net/indexers/%s/run?api-version=2020-06-30\" % body['name']\n",
    "    return envelope(url=url, key=key,  method='post')    \n",
    "def rerun_indexer(key, body):\n",
    "    reset_response = reset_indexer(key, body) \n",
    "    print (reset_response.status_code)\n",
    "    if (reset_response.status_code == 204):\n",
    "        return run_indexer(key, body)\n",
    "def create_update_skillset(key, body):\n",
    "    url = \"https://team4search.search.windows.net/skillsets/%s?api-version=2020-06-30\" % body['name']\n",
    "    return envelope(url=url, key=key, json=body, method='put')\n",
    "def recreate_index(key, body):\n",
    "    delete_url = \"https://team4search.search.windows.net/indexes/%s?api-version=2020-06-30\" % body['name']\n",
    "    delete_response = envelope(url=delete_url, key=key, method='delete') \n",
    "    print(delete_response.status_code)   \n",
    "    if (delete_response.status_code == 204):\n",
    "        create_url = \"https://team4search.search.windows.net/indexes?api-version=2020-06-30\"\n",
    "        return envelope(url=create_url, key=key, json=body, method='post')\n",
    "\n",
    "def create_update_synmap(key, body):\n",
    "    url = \"https://team4search.search.windows.net/synonymmaps/%s?api-version=2020-06-30\" % body['name']\n",
    "    return envelope(url=url, key=key, json=body, method='put')\n",
    "    "
   ]
  },
  {
   "cell_type": "code",
   "execution_count": null,
   "metadata": {},
   "outputs": [],
   "source": [
    "key = \"C2DB86C4FAC098C0CBF4F409F6C27C7F\"\n",
    "\n",
    "datasource_body = json.load(open('datasource.json'))\n",
    "x = create_datasource(url=url, key=api_key, body=datasource_body)\n",
    "pprint(x.text)"
   ]
  },
  {
   "cell_type": "code",
   "execution_count": 20,
   "metadata": {},
   "outputs": [
    {
     "output_type": "stream",
     "name": "stdout",
     "text": [
      "201\n'{\"@odata.context\":\"https://team4search.search.windows.net/$metadata#indexes/$entity\",\"@odata.etag\":\"\\\\\"0x8D8855FCEF780D2\\\\\"\",\"name\":\"azureblob-index2\",\"defaultScoringProfile\":null,\"fields\":[{\"name\":\"id\",\"type\":\"Edm.String\",\"searchable\":false,\"filterable\":false,\"retrievable\":true,\"sortable\":false,\"facetable\":false,\"key\":true,\"indexAnalyzer\":null,\"searchAnalyzer\":null,\"analyzer\":null,\"synonymMaps\":[]},{\"name\":\"content\",\"type\":\"Edm.String\",\"searchable\":true,\"filterable\":true,\"retrievable\":true,\"sortable\":false,\"facetable\":false,\"key\":false,\"indexAnalyzer\":null,\"searchAnalyzer\":null,\"analyzer\":\"standard.lucene\",\"synonymMaps\":[]},{\"name\":\"url\",\"type\":\"Edm.String\",\"searchable\":true,\"filterable\":true,\"retrievable\":true,\"sortable\":false,\"facetable\":false,\"key\":false,\"indexAnalyzer\":null,\"searchAnalyzer\":null,\"analyzer\":\"standard.lucene\",\"synonymMaps\":[]},{\"name\":\"file_name\",\"type\":\"Edm.String\",\"searchable\":true,\"filterable\":true,\"retrievable\":true,\"sortable\":false,\"facetable\":false,\"key\":false,\"indexAnalyzer\":null,\"searchAnalyzer\":null,\"analyzer\":\"standard.lucene\",\"synonymMaps\":[]},{\"name\":\"size\",\"type\":\"Edm.Int64\",\"searchable\":false,\"filterable\":true,\"retrievable\":true,\"sortable\":true,\"facetable\":false,\"key\":false,\"indexAnalyzer\":null,\"searchAnalyzer\":null,\"analyzer\":null,\"synonymMaps\":[]},{\"name\":\"last_modified\",\"type\":\"Edm.DateTimeOffset\",\"searchable\":false,\"filterable\":true,\"retrievable\":true,\"sortable\":true,\"facetable\":false,\"key\":false,\"indexAnalyzer\":null,\"searchAnalyzer\":null,\"analyzer\":null,\"synonymMaps\":[]},{\"name\":\"sentiment_score\",\"type\":\"Edm.Double\",\"searchable\":false,\"filterable\":true,\"retrievable\":true,\"sortable\":true,\"facetable\":false,\"key\":false,\"indexAnalyzer\":null,\"searchAnalyzer\":null,\"analyzer\":null,\"synonymMaps\":[]},{\"name\":\"key_phrases\",\"type\":\"Collection(Edm.String)\",\"searchable\":false,\"filterable\":true,\"retrievable\":true,\"sortable\":false,\"facetable\":false,\"key\":false,\"indexAnalyzer\":null,\"searchAnalyzer\":null,\"analyzer\":null,\"synonymMaps\":[]},{\"name\":\"enriched\",\"type\":\"Edm.String\",\"searchable\":false,\"filterable\":false,\"retrievable\":true,\"sortable\":false,\"facetable\":false,\"key\":false,\"indexAnalyzer\":null,\"searchAnalyzer\":null,\"analyzer\":null,\"synonymMaps\":[]}],\"scoringProfiles\":[],\"corsOptions\":null,\"suggesters\":[],\"analyzers\":[],\"tokenizers\":[],\"tokenFilters\":[],\"charFilters\":[],\"encryptionKey\":null,\"similarity\":{\"@odata.type\":\"#Microsoft.Azure.Search.BM25Similarity\",\"k1\":null,\"b\":null}}'\n"
     ]
    }
   ],
   "source": [
    "index_body = json.load(open('index.json'))\n",
    "x = create_index(key=api_key, body=index_body)\n",
    "pprint(x.text)"
   ]
  },
  {
   "cell_type": "code",
   "execution_count": 36,
   "metadata": {},
   "outputs": [
    {
     "output_type": "stream",
     "name": "stdout",
     "text": [
      "'{\"@odata.context\":\"https://team4search.search.windows.net/$metadata#indexers/$entity\",\"@odata.etag\":\"\\\\\"0x8D884C0400248A7\\\\\"\",\"name\":\"azureblob-indexer2\",\"description\":null,\"dataSourceName\":\"team4searchds2\",\"skillsetName\":null,\"targetIndexName\":\"azureblob-index2\",\"disabled\":null,\"schedule\":null,\"parameters\":{\"batchSize\":null,\"maxFailedItems\":0,\"maxFailedItemsPerBatch\":0,\"base64EncodeKeys\":null,\"configuration\":{\"dataToExtract\":\"contentAndMetadata\",\"parsingMode\":\"default\"}},\"fieldMappings\":[{\"sourceFieldName\":\"metadata_storage_path\",\"targetFieldName\":\"id\",\"mappingFunction\":{\"name\":\"base64Encode\",\"parameters\":null}},{\"sourceFieldName\":\"metadata_storage_path\",\"targetFieldName\":\"url\",\"mappingFunction\":null},{\"sourceFieldName\":\"content\",\"targetFieldName\":\"content\",\"mappingFunction\":null},{\"sourceFieldName\":\"metadata_storage_name\",\"targetFieldName\":\"file_name\",\"mappingFunction\":null},{\"sourceFieldName\":\"metadata_storage_size\",\"targetFieldName\":\"size\",\"mappingFunction\":null},{\"sourceFieldName\":\"metadata_storage_last_modified\",\"targetFieldName\":\"last_modified\",\"mappingFunction\":null}],\"outputFieldMappings\":[],\"encryptionKey\":null}'\n"
     ]
    }
   ],
   "source": [
    "indexer_body = json.load(open('indexer.json'))\n",
    "x = create_indexer(url=url, key=api_key, body=indexer_body)\n",
    "pprint(x.text)"
   ]
  },
  {
   "cell_type": "code",
   "execution_count": 4,
   "metadata": {},
   "outputs": [
    {
     "output_type": "stream",
     "name": "stdout",
     "text": [
      "204\n\n"
     ]
    }
   ],
   "source": [
    "skillset_body = json.load(open('skillset.json'))\n",
    "x = create_update_skillset(key=api_key, body=skillset_body)\n",
    "print(x.text)"
   ]
  },
  {
   "cell_type": "code",
   "execution_count": 8,
   "metadata": {},
   "outputs": [
    {
     "output_type": "stream",
     "name": "stdout",
     "text": [
      "204\n\n"
     ]
    }
   ],
   "source": [
    "indexer_update_body = json.load(open('indexer.json'))\n",
    "x = create_update_indexer( api_key, indexer_update_body)\n",
    "print(x.text)"
   ]
  },
  {
   "cell_type": "code",
   "execution_count": 19,
   "metadata": {},
   "outputs": [
    {
     "output_type": "stream",
     "name": "stdout",
     "text": [
      "204\n",
      "204\n",
      "202\n",
      "\n"
     ]
    }
   ],
   "source": [
    "indexer_update_body = json.load(open('indexer.json'))\n",
    "x = rerun_indexer( api_key, indexer_update_body)\n",
    "print(x.text)"
   ]
  },
  {
   "cell_type": "code",
   "execution_count": 18,
   "metadata": {},
   "outputs": [
    {
     "output_type": "stream",
     "name": "stdout",
     "text": [
      "204\n",
      "204\n",
      "201\n",
      "'{\"@odata.context\":\"https://team4search.search.windows.net/$metadata#indexes/$entity\",\"@odata.etag\":\"\\\\\"0x8D8863E0CBC4B69\\\\\"\",\"name\":\"azureblob-index2\",\"defaultScoringProfile\":null,\"fields\":[{\"name\":\"id\",\"type\":\"Edm.String\",\"searchable\":false,\"filterable\":false,\"retrievable\":true,\"sortable\":false,\"facetable\":false,\"key\":true,\"indexAnalyzer\":null,\"searchAnalyzer\":null,\"analyzer\":null,\"synonymMaps\":[]},{\"name\":\"content\",\"type\":\"Edm.String\",\"searchable\":true,\"filterable\":true,\"retrievable\":true,\"sortable\":false,\"facetable\":false,\"key\":false,\"indexAnalyzer\":null,\"searchAnalyzer\":null,\"analyzer\":\"standard.lucene\",\"synonymMaps\":[\"locationsynonyms\"]},{\"name\":\"url\",\"type\":\"Edm.String\",\"searchable\":true,\"filterable\":true,\"retrievable\":true,\"sortable\":false,\"facetable\":false,\"key\":false,\"indexAnalyzer\":null,\"searchAnalyzer\":null,\"analyzer\":\"standard.lucene\",\"synonymMaps\":[]},{\"name\":\"file_name\",\"type\":\"Edm.String\",\"searchable\":true,\"filterable\":true,\"retrievable\":true,\"sortable\":false,\"facetable\":false,\"key\":false,\"indexAnalyzer\":null,\"searchAnalyzer\":null,\"analyzer\":\"standard.lucene\",\"synonymMaps\":[]},{\"name\":\"size\",\"type\":\"Edm.Int64\",\"searchable\":false,\"filterable\":true,\"retrievable\":true,\"sortable\":true,\"facetable\":false,\"key\":false,\"indexAnalyzer\":null,\"searchAnalyzer\":null,\"analyzer\":null,\"synonymMaps\":[]},{\"name\":\"last_modified\",\"type\":\"Edm.DateTimeOffset\",\"searchable\":false,\"filterable\":true,\"retrievable\":true,\"sortable\":true,\"facetable\":false,\"key\":false,\"indexAnalyzer\":null,\"searchAnalyzer\":null,\"analyzer\":null,\"synonymMaps\":[]},{\"name\":\"sentiment_score\",\"type\":\"Edm.Double\",\"searchable\":false,\"filterable\":true,\"retrievable\":true,\"sortable\":true,\"facetable\":false,\"key\":false,\"indexAnalyzer\":null,\"searchAnalyzer\":null,\"analyzer\":null,\"synonymMaps\":[]},{\"name\":\"key_phrases\",\"type\":\"Collection(Edm.String)\",\"searchable\":true,\"filterable\":true,\"retrievable\":true,\"sortable\":false,\"facetable\":false,\"key\":false,\"indexAnalyzer\":null,\"searchAnalyzer\":null,\"analyzer\":\"standard.lucene\",\"synonymMaps\":[\"locationsynonyms\"]},{\"name\":\"locations\",\"type\":\"Collection(Edm.String)\",\"searchable\":true,\"filterable\":true,\"retrievable\":true,\"sortable\":false,\"facetable\":false,\"key\":false,\"indexAnalyzer\":null,\"searchAnalyzer\":null,\"analyzer\":\"standard.lucene\",\"synonymMaps\":[\"locationsynonyms\"]},{\"name\":\"persons\",\"type\":\"Collection(Edm.String)\",\"searchable\":false,\"filterable\":true,\"retrievable\":true,\"sortable\":false,\"facetable\":false,\"key\":false,\"indexAnalyzer\":null,\"searchAnalyzer\":null,\"analyzer\":null,\"synonymMaps\":[]},{\"name\":\"urls\",\"type\":\"Collection(Edm.String)\",\"searchable\":false,\"filterable\":true,\"retrievable\":true,\"sortable\":false,\"facetable\":false,\"key\":false,\"indexAnalyzer\":null,\"searchAnalyzer\":null,\"analyzer\":null,\"synonymMaps\":[]},{\"name\":\"enriched\",\"type\":\"Edm.String\",\"searchable\":false,\"filterable\":false,\"retrievable\":true,\"sortable\":false,\"facetable\":false,\"key\":false,\"indexAnalyzer\":null,\"searchAnalyzer\":null,\"analyzer\":null,\"synonymMaps\":[]},{\"name\":\"tags\",\"type\":\"Collection(Edm.ComplexType)\",\"fields\":[{\"name\":\"name\",\"type\":\"Edm.String\",\"searchable\":true,\"filterable\":true,\"retrievable\":true,\"sortable\":false,\"facetable\":false,\"key\":false,\"indexAnalyzer\":null,\"searchAnalyzer\":null,\"analyzer\":null,\"synonymMaps\":[]},{\"name\":\"confidence\",\"type\":\"Edm.Double\",\"searchable\":false,\"filterable\":false,\"retrievable\":true,\"sortable\":false,\"facetable\":false,\"key\":false,\"indexAnalyzer\":null,\"searchAnalyzer\":null,\"analyzer\":null,\"synonymMaps\":[]}]},{\"name\":\"description\",\"type\":\"Collection(Edm.ComplexType)\",\"fields\":[{\"name\":\"tags\",\"type\":\"Collection(Edm.String)\",\"searchable\":true,\"filterable\":true,\"retrievable\":true,\"sortable\":false,\"facetable\":false,\"key\":false,\"indexAnalyzer\":null,\"searchAnalyzer\":null,\"analyzer\":null,\"synonymMaps\":[]},{\"name\":\"captions\",\"type\":\"Collection(Edm.ComplexType)\",\"fields\":[{\"name\":\"text\",\"type\":\"Edm.String\",\"searchable\":true,\"filterable\":true,\"retrievable\":true,\"sortable\":false,\"facetable\":false,\"key\":false,\"indexAnalyzer\":null,\"searchAnalyzer\":null,\"analyzer\":\"standard.lucene\",\"synonymMaps\":[\"locationsynonyms\"]},{\"name\":\"confidence\",\"type\":\"Edm.Double\",\"searchable\":false,\"filterable\":false,\"retrievable\":true,\"sortable\":false,\"facetable\":false,\"key\":false,\"indexAnalyzer\":null,\"searchAnalyzer\":null,\"analyzer\":null,\"synonymMaps\":[]}]}]},{\"name\":\"toptenwords\",\"type\":\"Collection(Edm.String)\",\"searchable\":true,\"filterable\":true,\"retrievable\":true,\"sortable\":false,\"facetable\":false,\"key\":false,\"indexAnalyzer\":null,\"searchAnalyzer\":null,\"analyzer\":\"standard.lucene\",\"synonymMaps\":[]}],\"scoringProfiles\":[],\"corsOptions\":null,\"suggesters\":[],\"analyzers\":[],\"tokenizers\":[],\"tokenFilters\":[],\"charFilters\":[],\"encryptionKey\":null,\"similarity\":{\"@odata.type\":\"#Microsoft.Azure.Search.BM25Similarity\",\"k1\":null,\"b\":null}}'\n"
     ]
    }
   ],
   "source": [
    "index_body = json.load(open('index.json'))\n",
    "x = recreate_index(key=api_key, body=index_body)\n",
    "pprint(x.text)"
   ]
  },
  {
   "cell_type": "code",
   "execution_count": 17,
   "metadata": {},
   "outputs": [
    {
     "output_type": "stream",
     "name": "stdout",
     "text": [
      "201\n('{\"@odata.context\":\"https://team4search.search.windows.net/$metadata#synonymmaps/$entity\",\"@odata.etag\":\"\\\\\"0x8D8863DE3FBAFCF\\\\\"\",\"name\":\"locationsynonyms\",\"format\":\"solr\",\"synonyms\":\"\\\\n    '\n 'USA, United States, United States of America => USA\\\\n\\\\n    United Kingdom, '\n 'England, Great Britain, GB, UK\\\\n\\\\n    \",\"encryptionKey\":null}')\n"
     ]
    }
   ],
   "source": [
    "#synonymmaps_body = json.load(open('synonymmaps.json'))\n",
    "synonymmaps_body = {\n",
    "    \"name\":\"locationsynonyms\",\n",
    "    \"format\":\"solr\",\n",
    "    \"synonyms\": \"\"\"\n",
    "    USA, United States, United States of America => USA\\n\n",
    "    United Kingdom, England, Great Britain, GB, UK\\n\n",
    "    \"\"\"\n",
    "}\n",
    "x = create_update_synmap(key=api_key, body=synonymmaps_body)\n",
    "pprint(x.text)"
   ]
  },
  {
   "cell_type": "code",
   "execution_count": 20,
   "metadata": {},
   "outputs": [
    {
     "output_type": "error",
     "ename": "JSONDecodeError",
     "evalue": "Expecting ',' delimiter: line 4 column 72 (char 125)",
     "traceback": [
      "\u001b[1;31m---------------------------------------------------------------------------\u001b[0m",
      "\u001b[1;31mJSONDecodeError\u001b[0m                           Traceback (most recent call last)",
      "\u001b[1;32m<ipython-input-20-a342ef798430>\u001b[0m in \u001b[0;36m<module>\u001b[1;34m\u001b[0m\n\u001b[1;32m----> 1\u001b[1;33m \u001b[0mjson\u001b[0m\u001b[1;33m.\u001b[0m\u001b[0mload\u001b[0m\u001b[1;33m(\u001b[0m\u001b[0mopen\u001b[0m\u001b[1;33m(\u001b[0m\u001b[1;34m'synonymmaps.json'\u001b[0m\u001b[1;33m)\u001b[0m\u001b[1;33m)\u001b[0m\u001b[1;33m\u001b[0m\u001b[1;33m\u001b[0m\u001b[0m\n\u001b[0m",
      "\u001b[1;32m~\\Anaconda3\\lib\\json\\__init__.py\u001b[0m in \u001b[0;36mload\u001b[1;34m(fp, cls, object_hook, parse_float, parse_int, parse_constant, object_pairs_hook, **kw)\u001b[0m\n\u001b[0;32m    291\u001b[0m     \u001b[0mkwarg\u001b[0m\u001b[1;33m;\u001b[0m \u001b[0motherwise\u001b[0m\u001b[0;31m \u001b[0m\u001b[0;31m`\u001b[0m\u001b[0;31m`\u001b[0m\u001b[0mJSONDecoder\u001b[0m\u001b[0;31m`\u001b[0m\u001b[0;31m`\u001b[0m \u001b[1;32mis\u001b[0m \u001b[0mused\u001b[0m\u001b[1;33m.\u001b[0m\u001b[1;33m\u001b[0m\u001b[1;33m\u001b[0m\u001b[0m\n\u001b[0;32m    292\u001b[0m     \"\"\"\n\u001b[1;32m--> 293\u001b[1;33m     return loads(fp.read(),\n\u001b[0m\u001b[0;32m    294\u001b[0m         \u001b[0mcls\u001b[0m\u001b[1;33m=\u001b[0m\u001b[0mcls\u001b[0m\u001b[1;33m,\u001b[0m \u001b[0mobject_hook\u001b[0m\u001b[1;33m=\u001b[0m\u001b[0mobject_hook\u001b[0m\u001b[1;33m,\u001b[0m\u001b[1;33m\u001b[0m\u001b[1;33m\u001b[0m\u001b[0m\n\u001b[0;32m    295\u001b[0m         \u001b[0mparse_float\u001b[0m\u001b[1;33m=\u001b[0m\u001b[0mparse_float\u001b[0m\u001b[1;33m,\u001b[0m \u001b[0mparse_int\u001b[0m\u001b[1;33m=\u001b[0m\u001b[0mparse_int\u001b[0m\u001b[1;33m,\u001b[0m\u001b[1;33m\u001b[0m\u001b[1;33m\u001b[0m\u001b[0m\n",
      "\u001b[1;32m~\\Anaconda3\\lib\\json\\__init__.py\u001b[0m in \u001b[0;36mloads\u001b[1;34m(s, cls, object_hook, parse_float, parse_int, parse_constant, object_pairs_hook, **kw)\u001b[0m\n\u001b[0;32m    355\u001b[0m             \u001b[0mparse_int\u001b[0m \u001b[1;32mis\u001b[0m \u001b[1;32mNone\u001b[0m \u001b[1;32mand\u001b[0m \u001b[0mparse_float\u001b[0m \u001b[1;32mis\u001b[0m \u001b[1;32mNone\u001b[0m \u001b[1;32mand\u001b[0m\u001b[1;33m\u001b[0m\u001b[1;33m\u001b[0m\u001b[0m\n\u001b[0;32m    356\u001b[0m             parse_constant is None and object_pairs_hook is None and not kw):\n\u001b[1;32m--> 357\u001b[1;33m         \u001b[1;32mreturn\u001b[0m \u001b[0m_default_decoder\u001b[0m\u001b[1;33m.\u001b[0m\u001b[0mdecode\u001b[0m\u001b[1;33m(\u001b[0m\u001b[0ms\u001b[0m\u001b[1;33m)\u001b[0m\u001b[1;33m\u001b[0m\u001b[1;33m\u001b[0m\u001b[0m\n\u001b[0m\u001b[0;32m    358\u001b[0m     \u001b[1;32mif\u001b[0m \u001b[0mcls\u001b[0m \u001b[1;32mis\u001b[0m \u001b[1;32mNone\u001b[0m\u001b[1;33m:\u001b[0m\u001b[1;33m\u001b[0m\u001b[1;33m\u001b[0m\u001b[0m\n\u001b[0;32m    359\u001b[0m         \u001b[0mcls\u001b[0m \u001b[1;33m=\u001b[0m \u001b[0mJSONDecoder\u001b[0m\u001b[1;33m\u001b[0m\u001b[1;33m\u001b[0m\u001b[0m\n",
      "\u001b[1;32m~\\Anaconda3\\lib\\json\\decoder.py\u001b[0m in \u001b[0;36mdecode\u001b[1;34m(self, s, _w)\u001b[0m\n\u001b[0;32m    335\u001b[0m \u001b[1;33m\u001b[0m\u001b[0m\n\u001b[0;32m    336\u001b[0m         \"\"\"\n\u001b[1;32m--> 337\u001b[1;33m         \u001b[0mobj\u001b[0m\u001b[1;33m,\u001b[0m \u001b[0mend\u001b[0m \u001b[1;33m=\u001b[0m \u001b[0mself\u001b[0m\u001b[1;33m.\u001b[0m\u001b[0mraw_decode\u001b[0m\u001b[1;33m(\u001b[0m\u001b[0ms\u001b[0m\u001b[1;33m,\u001b[0m \u001b[0midx\u001b[0m\u001b[1;33m=\u001b[0m\u001b[0m_w\u001b[0m\u001b[1;33m(\u001b[0m\u001b[0ms\u001b[0m\u001b[1;33m,\u001b[0m \u001b[1;36m0\u001b[0m\u001b[1;33m)\u001b[0m\u001b[1;33m.\u001b[0m\u001b[0mend\u001b[0m\u001b[1;33m(\u001b[0m\u001b[1;33m)\u001b[0m\u001b[1;33m)\u001b[0m\u001b[1;33m\u001b[0m\u001b[1;33m\u001b[0m\u001b[0m\n\u001b[0m\u001b[0;32m    338\u001b[0m         \u001b[0mend\u001b[0m \u001b[1;33m=\u001b[0m \u001b[0m_w\u001b[0m\u001b[1;33m(\u001b[0m\u001b[0ms\u001b[0m\u001b[1;33m,\u001b[0m \u001b[0mend\u001b[0m\u001b[1;33m)\u001b[0m\u001b[1;33m.\u001b[0m\u001b[0mend\u001b[0m\u001b[1;33m(\u001b[0m\u001b[1;33m)\u001b[0m\u001b[1;33m\u001b[0m\u001b[1;33m\u001b[0m\u001b[0m\n\u001b[0;32m    339\u001b[0m         \u001b[1;32mif\u001b[0m \u001b[0mend\u001b[0m \u001b[1;33m!=\u001b[0m \u001b[0mlen\u001b[0m\u001b[1;33m(\u001b[0m\u001b[0ms\u001b[0m\u001b[1;33m)\u001b[0m\u001b[1;33m:\u001b[0m\u001b[1;33m\u001b[0m\u001b[1;33m\u001b[0m\u001b[0m\n",
      "\u001b[1;32m~\\Anaconda3\\lib\\json\\decoder.py\u001b[0m in \u001b[0;36mraw_decode\u001b[1;34m(self, s, idx)\u001b[0m\n\u001b[0;32m    351\u001b[0m         \"\"\"\n\u001b[0;32m    352\u001b[0m         \u001b[1;32mtry\u001b[0m\u001b[1;33m:\u001b[0m\u001b[1;33m\u001b[0m\u001b[1;33m\u001b[0m\u001b[0m\n\u001b[1;32m--> 353\u001b[1;33m             \u001b[0mobj\u001b[0m\u001b[1;33m,\u001b[0m \u001b[0mend\u001b[0m \u001b[1;33m=\u001b[0m \u001b[0mself\u001b[0m\u001b[1;33m.\u001b[0m\u001b[0mscan_once\u001b[0m\u001b[1;33m(\u001b[0m\u001b[0ms\u001b[0m\u001b[1;33m,\u001b[0m \u001b[0midx\u001b[0m\u001b[1;33m)\u001b[0m\u001b[1;33m\u001b[0m\u001b[1;33m\u001b[0m\u001b[0m\n\u001b[0m\u001b[0;32m    354\u001b[0m         \u001b[1;32mexcept\u001b[0m \u001b[0mStopIteration\u001b[0m \u001b[1;32mas\u001b[0m \u001b[0merr\u001b[0m\u001b[1;33m:\u001b[0m\u001b[1;33m\u001b[0m\u001b[1;33m\u001b[0m\u001b[0m\n\u001b[0;32m    355\u001b[0m             \u001b[1;32mraise\u001b[0m \u001b[0mJSONDecodeError\u001b[0m\u001b[1;33m(\u001b[0m\u001b[1;34m\"Expecting value\"\u001b[0m\u001b[1;33m,\u001b[0m \u001b[0ms\u001b[0m\u001b[1;33m,\u001b[0m \u001b[0merr\u001b[0m\u001b[1;33m.\u001b[0m\u001b[0mvalue\u001b[0m\u001b[1;33m)\u001b[0m \u001b[1;32mfrom\u001b[0m \u001b[1;32mNone\u001b[0m\u001b[1;33m\u001b[0m\u001b[1;33m\u001b[0m\u001b[0m\n",
      "\u001b[1;31mJSONDecodeError\u001b[0m: Expecting ',' delimiter: line 4 column 72 (char 125)"
     ]
    }
   ],
   "source": [
    "json.load(open('synonymmaps.json'))"
   ]
  },
  {
   "cell_type": "code",
   "execution_count": null,
   "metadata": {},
   "outputs": [],
   "source": []
  }
 ],
 "metadata": {
  "kernelspec": {
   "name": "Python 3.8.3 64-bit ('OCONNEEO': virtualenv)",
   "display_name": "Python 3.8.3 64-bit ('OCONNEEO': virtualenv)",
   "metadata": {
    "interpreter": {
     "hash": "a7b3a1c0fce9e2b2dd233dce6ec84055931efd016afe2a581e32e4e5c9f4f93d"
    }
   }
  },
  "language_info": {
   "codemirror_mode": {
    "name": "ipython",
    "version": 3
   },
   "file_extension": ".py",
   "mimetype": "text/x-python",
   "name": "python",
   "nbconvert_exporter": "python",
   "pygments_lexer": "ipython3",
   "version": "3.8.3-final"
  }
 },
 "nbformat": 4,
 "nbformat_minor": 4
}