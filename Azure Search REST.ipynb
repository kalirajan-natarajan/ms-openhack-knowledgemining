{
 "cells": [
  {
   "cell_type": "code",
   "execution_count": null,
   "metadata": {},
   "outputs": [],
   "source": [
    "import json\n",
    "import requests\n",
    "from pprint import pprint"
   ]
  },
  {
   "cell_type": "code",
   "execution_count": null,
   "metadata": {},
   "outputs": [],
   "source": [
    "def get(url, key, params={}):\n",
    "    headers = {'api-key': key,\n",
    "               'Content-Type': 'application/json', \n",
    "               'Accept': 'application/json' }\n",
    "    return requests.get(url, headers=headers, params=params)\n",
    "\n",
    "def post(url, key, json={}):\n",
    "    headers = {'api-key': key,\n",
    "               'Content-Type': 'application/json', \n",
    "               'Accept': 'application/json' }\n",
    "    return requests.post(url, headers=headers, json=json)    "
   ]
  },
  {
   "cell_type": "code",
   "execution_count": null,
   "metadata": {},
   "outputs": [],
   "source": [
    "url = \"https://team4search.search.windows.net/indexes?api-version=2020-06-30\"\n",
    "key = #<Add key here>\n",
    "\n",
    "x = get(url, key, params={})\n",
    "\n",
    "pprint(x.text)\n",
    "\n",
    "#Print json\n",
    "pprint(json.dumps(x.text, sort_keys=True, indent=2))"
   ]
  }
 ],
 "metadata": {
  "kernelspec": {
   "display_name": "Python 3",
   "language": "python",
   "name": "python3"
  },
  "language_info": {
   "codemirror_mode": {
    "name": "ipython",
    "version": 3
   },
   "file_extension": ".py",
   "mimetype": "text/x-python",
   "name": "python",
   "nbconvert_exporter": "python",
   "pygments_lexer": "ipython3",
   "version": "3.8.3"
  }
 },
 "nbformat": 4,
 "nbformat_minor": 4
}
